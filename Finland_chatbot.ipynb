{
 "cells": [
  {
   "cell_type": "code",
   "execution_count": 14,
   "id": "ac5a292d-e86b-419f-a92a-52d3ec1f386c",
   "metadata": {},
   "outputs": [
    {
     "name": "stdout",
     "output_type": "stream",
     "text": [
      "Assistant Created. Assistant ID: asst_TVF43xGGu6SqHjO5EP54gKnY\n"
     ]
    }
   ],
   "source": [
    "# pip install tavily-python\n",
    "\n",
    "import os\n",
    "import json\n",
    "import time\n",
    "from openai import OpenAI\n",
    "from tavily import TavilyClient\n",
    "from IPython.display import display, Markdown\n",
    "\n",
    "# Initialize clients with API keys\n",
    "client = OpenAI(api_key=os.environ[\"OPENAI_API_KEY\"])\n",
    "tavily_client = TavilyClient(api_key=os.environ[\"TAVILY_API_KEY\"])\n",
    "\n",
    "prompt = \"\"\"You are an immigration expert having expertise in Finnish immigration and integration. \n",
    "Your goal is to provide updated information from the internet using Tavily search API function. \n",
    "If no relevant information is found on the internet, utilize your own knowledge\n",
    "to answer the question. In either case, acknowledge the source of the information. \n",
    "If the information is not present in your own knowledge, simply say that you cannot provide the requested information.\n",
    "In case of an internet search, Please include relevant url sources at the end of your answers with the heading \"Citations\".\n",
    "Analyze the query to determine whether the question requires internet access to find the updated information. \n",
    "Internet access may be required for queries asking for information on rapidly changing policies, current statistics, or other recent facts (e.g., current tax rate, tution fees, visa processing fee, residency period, etc.\n",
    "It is important to note that you only have to answer queries related to Finland in general (e.g, location, history, economy, etc.), Finnish immigration,\n",
    "Finnish culture, Finnish lifestyle, or integration in Finland. For all other non-related queries, simply respond by giving an appropriate message\n",
    "\"\"\"\n",
    "\n",
    "# Create an assistant\n",
    "assistant = client.beta.assistants.create(\n",
    "    instructions=prompt,\n",
    "    model=\"gpt-4o-mini\",\n",
    "    tools=[{\n",
    "        \"type\": \"function\",\n",
    "        \"function\": {\n",
    "            \"name\": \"tavily_search\",\n",
    "            \"description\": \"Get information on recent events from the web.\",\n",
    "            \"parameters\": {\n",
    "                \"type\": \"object\",\n",
    "                \"properties\": {\n",
    "                    \"query\": {\"type\": \"string\", \"description\": \"The search query to use. For example: 'What is the average processing time of residence permit?'\"},\n",
    "                },\n",
    "                \"required\": [\"query\"]\n",
    "            }\n",
    "        }\n",
    "    }]\n",
    ")\n",
    "assistant_id = assistant.id\n",
    "print(f\"Assistant Created. Assistant ID: {assistant_id}\")"
   ]
  },
  {
   "cell_type": "code",
   "execution_count": 15,
   "id": "9bad736e-4bd4-480c-8144-7f20fd27c0b6",
   "metadata": {},
   "outputs": [
    {
     "name": "stdout",
     "output_type": "stream",
     "text": [
      "Thread: Thread(id='thread_fsRlmIs6o8CTe1phrOvaWuS6', created_at=1727951260, metadata={}, object='thread', tool_resources=ToolResources(code_interpreter=None, file_search=None))\n"
     ]
    },
    {
     "data": {
      "text/markdown": [
       "**You (type 'exit' to end):**"
      ],
      "text/plain": [
       "<IPython.core.display.Markdown object>"
      ]
     },
     "metadata": {},
     "output_type": "display_data"
    },
    {
     "name": "stdout",
     "output_type": "stream",
     "text": [
      "  What is the current residency period for citizenship?\n"
     ]
    },
    {
     "data": {
      "text/markdown": [
       "Thinking..."
      ],
      "text/plain": [
       "<IPython.core.display.Markdown object>"
      ]
     },
     "metadata": {},
     "output_type": "display_data"
    },
    {
     "data": {
      "text/markdown": [
       "Retrieving updated information..."
      ],
      "text/plain": [
       "<IPython.core.display.Markdown object>"
      ]
     },
     "metadata": {},
     "output_type": "display_data"
    },
    {
     "data": {
      "text/markdown": [
       "Thinking..."
      ],
      "text/plain": [
       "<IPython.core.display.Markdown object>"
      ]
     },
     "metadata": {},
     "output_type": "display_data"
    },
    {
     "data": {
      "text/markdown": [
       "Thinking..."
      ],
      "text/plain": [
       "<IPython.core.display.Markdown object>"
      ]
     },
     "metadata": {},
     "output_type": "display_data"
    },
    {
     "data": {
      "text/markdown": [
       "Thinking..."
      ],
      "text/plain": [
       "<IPython.core.display.Markdown object>"
      ]
     },
     "metadata": {},
     "output_type": "display_data"
    },
    {
     "data": {
      "text/markdown": [
       "user:  What is the current residency period for citizenship?"
      ],
      "text/plain": [
       "<IPython.core.display.Markdown object>"
      ]
     },
     "metadata": {},
     "output_type": "display_data"
    },
    {
     "data": {
      "text/markdown": [
       "assistant: As of now, the period of residence required for acquiring Finnish citizenship will be extended from the current five years to eight years starting from October 1, 2024. This change means that applicants will need to reside in Finland for a minimum of eight years before applying for citizenship, up from the previous requirement of five years. \n",
       "\n",
       "For those with special circumstances, such as being married to a Finnish citizen, the required period may still be shorter.\n",
       "\n",
       "Citations:\n",
       "- [Valtioneuvosto](https://valtioneuvosto.fi/en/-//1410869/stricter-requirements-for-acquiring-finnish-citizenship-the-required-period-of-residence-to-be-extended)\n",
       "- [Yle](https://yle.fi/a/74-20084424)\n",
       "- [Migri](https://migri.fi/en/faq-finnish-citizenship)"
      ],
      "text/plain": [
       "<IPython.core.display.Markdown object>"
      ]
     },
     "metadata": {},
     "output_type": "display_data"
    },
    {
     "data": {
      "text/markdown": [
       "**You (type 'exit' to end):**"
      ],
      "text/plain": [
       "<IPython.core.display.Markdown object>"
      ]
     },
     "metadata": {},
     "output_type": "display_data"
    },
    {
     "name": "stdout",
     "output_type": "stream",
     "text": [
      "  What is the average processing time of student residence permit?\n"
     ]
    },
    {
     "data": {
      "text/markdown": [
       "Thinking..."
      ],
      "text/plain": [
       "<IPython.core.display.Markdown object>"
      ]
     },
     "metadata": {},
     "output_type": "display_data"
    },
    {
     "data": {
      "text/markdown": [
       "Retrieving updated information..."
      ],
      "text/plain": [
       "<IPython.core.display.Markdown object>"
      ]
     },
     "metadata": {},
     "output_type": "display_data"
    },
    {
     "data": {
      "text/markdown": [
       "Thinking..."
      ],
      "text/plain": [
       "<IPython.core.display.Markdown object>"
      ]
     },
     "metadata": {},
     "output_type": "display_data"
    },
    {
     "data": {
      "text/markdown": [
       "Thinking..."
      ],
      "text/plain": [
       "<IPython.core.display.Markdown object>"
      ]
     },
     "metadata": {},
     "output_type": "display_data"
    },
    {
     "data": {
      "text/markdown": [
       "Thinking..."
      ],
      "text/plain": [
       "<IPython.core.display.Markdown object>"
      ]
     },
     "metadata": {},
     "output_type": "display_data"
    },
    {
     "data": {
      "text/markdown": [
       "Thinking..."
      ],
      "text/plain": [
       "<IPython.core.display.Markdown object>"
      ]
     },
     "metadata": {},
     "output_type": "display_data"
    },
    {
     "data": {
      "text/markdown": [
       "Thinking..."
      ],
      "text/plain": [
       "<IPython.core.display.Markdown object>"
      ]
     },
     "metadata": {},
     "output_type": "display_data"
    },
    {
     "data": {
      "text/markdown": [
       "user:  What is the current residency period for citizenship?"
      ],
      "text/plain": [
       "<IPython.core.display.Markdown object>"
      ]
     },
     "metadata": {},
     "output_type": "display_data"
    },
    {
     "data": {
      "text/markdown": [
       "assistant: As of now, the period of residence required for acquiring Finnish citizenship will be extended from the current five years to eight years starting from October 1, 2024. This change means that applicants will need to reside in Finland for a minimum of eight years before applying for citizenship, up from the previous requirement of five years. \n",
       "\n",
       "For those with special circumstances, such as being married to a Finnish citizen, the required period may still be shorter.\n",
       "\n",
       "Citations:\n",
       "- [Valtioneuvosto](https://valtioneuvosto.fi/en/-//1410869/stricter-requirements-for-acquiring-finnish-citizenship-the-required-period-of-residence-to-be-extended)\n",
       "- [Yle](https://yle.fi/a/74-20084424)\n",
       "- [Migri](https://migri.fi/en/faq-finnish-citizenship)"
      ],
      "text/plain": [
       "<IPython.core.display.Markdown object>"
      ]
     },
     "metadata": {},
     "output_type": "display_data"
    },
    {
     "data": {
      "text/markdown": [
       "user:  What is the average processing time of student residence permit?"
      ],
      "text/plain": [
       "<IPython.core.display.Markdown object>"
      ]
     },
     "metadata": {},
     "output_type": "display_data"
    },
    {
     "data": {
      "text/markdown": [
       "assistant: As of 2023, the average processing time for a student residence permit in Finland was approximately 38 days. However, recent reports indicate that a significant portion of applications are being processed faster, with nearly 60% of students receiving a decision within 30 days or less. Furthermore, by the end of July 2024, this processing time has reportedly improved to under 30 days, despite a rise in the number of applications.\n",
       "\n",
       "Citations:\n",
       "- [Schengen News](https://schengen.news/finland-processing-student-residence-permits-within-30-days-despite-growing-applications/)\n",
       "- [Triplonia](https://triplonia.com/despite-an-increase-in-applications-finland-processes-student-residence-permits-in-less-than-30-days/)\n",
       "- [EU Helpers](https://euhelpers.co.uk/blog/finland-processing-student-residence-permits-within-30-days-despite-growing-applications)\n",
       "- [Erudera](https://erudera.com/news/finnish-universities-attract-more-intl-students-residence-permit-applications-up-48/)\n",
       "- [Daily Finland](https://www.dailyfinland.fi/education/39212/Number-of-students-residence-permit-applications-on-rise)"
      ],
      "text/plain": [
       "<IPython.core.display.Markdown object>"
      ]
     },
     "metadata": {},
     "output_type": "display_data"
    },
    {
     "data": {
      "text/markdown": [
       "**You (type 'exit' to end):**"
      ],
      "text/plain": [
       "<IPython.core.display.Markdown object>"
      ]
     },
     "metadata": {},
     "output_type": "display_data"
    },
    {
     "name": "stdout",
     "output_type": "stream",
     "text": [
      "  When will the master admissions for 2025 will open?\n"
     ]
    },
    {
     "data": {
      "text/markdown": [
       "Thinking..."
      ],
      "text/plain": [
       "<IPython.core.display.Markdown object>"
      ]
     },
     "metadata": {},
     "output_type": "display_data"
    },
    {
     "data": {
      "text/markdown": [
       "Thinking..."
      ],
      "text/plain": [
       "<IPython.core.display.Markdown object>"
      ]
     },
     "metadata": {},
     "output_type": "display_data"
    },
    {
     "data": {
      "text/markdown": [
       "Retrieving updated information..."
      ],
      "text/plain": [
       "<IPython.core.display.Markdown object>"
      ]
     },
     "metadata": {},
     "output_type": "display_data"
    },
    {
     "data": {
      "text/markdown": [
       "Thinking..."
      ],
      "text/plain": [
       "<IPython.core.display.Markdown object>"
      ]
     },
     "metadata": {},
     "output_type": "display_data"
    },
    {
     "data": {
      "text/markdown": [
       "Thinking..."
      ],
      "text/plain": [
       "<IPython.core.display.Markdown object>"
      ]
     },
     "metadata": {},
     "output_type": "display_data"
    },
    {
     "data": {
      "text/markdown": [
       "Thinking..."
      ],
      "text/plain": [
       "<IPython.core.display.Markdown object>"
      ]
     },
     "metadata": {},
     "output_type": "display_data"
    },
    {
     "data": {
      "text/markdown": [
       "user:  What is the current residency period for citizenship?"
      ],
      "text/plain": [
       "<IPython.core.display.Markdown object>"
      ]
     },
     "metadata": {},
     "output_type": "display_data"
    },
    {
     "data": {
      "text/markdown": [
       "assistant: As of now, the period of residence required for acquiring Finnish citizenship will be extended from the current five years to eight years starting from October 1, 2024. This change means that applicants will need to reside in Finland for a minimum of eight years before applying for citizenship, up from the previous requirement of five years. \n",
       "\n",
       "For those with special circumstances, such as being married to a Finnish citizen, the required period may still be shorter.\n",
       "\n",
       "Citations:\n",
       "- [Valtioneuvosto](https://valtioneuvosto.fi/en/-//1410869/stricter-requirements-for-acquiring-finnish-citizenship-the-required-period-of-residence-to-be-extended)\n",
       "- [Yle](https://yle.fi/a/74-20084424)\n",
       "- [Migri](https://migri.fi/en/faq-finnish-citizenship)"
      ],
      "text/plain": [
       "<IPython.core.display.Markdown object>"
      ]
     },
     "metadata": {},
     "output_type": "display_data"
    },
    {
     "data": {
      "text/markdown": [
       "user:  What is the average processing time of student residence permit?"
      ],
      "text/plain": [
       "<IPython.core.display.Markdown object>"
      ]
     },
     "metadata": {},
     "output_type": "display_data"
    },
    {
     "data": {
      "text/markdown": [
       "assistant: As of 2023, the average processing time for a student residence permit in Finland was approximately 38 days. However, recent reports indicate that a significant portion of applications are being processed faster, with nearly 60% of students receiving a decision within 30 days or less. Furthermore, by the end of July 2024, this processing time has reportedly improved to under 30 days, despite a rise in the number of applications.\n",
       "\n",
       "Citations:\n",
       "- [Schengen News](https://schengen.news/finland-processing-student-residence-permits-within-30-days-despite-growing-applications/)\n",
       "- [Triplonia](https://triplonia.com/despite-an-increase-in-applications-finland-processes-student-residence-permits-in-less-than-30-days/)\n",
       "- [EU Helpers](https://euhelpers.co.uk/blog/finland-processing-student-residence-permits-within-30-days-despite-growing-applications)\n",
       "- [Erudera](https://erudera.com/news/finnish-universities-attract-more-intl-students-residence-permit-applications-up-48/)\n",
       "- [Daily Finland](https://www.dailyfinland.fi/education/39212/Number-of-students-residence-permit-applications-on-rise)"
      ],
      "text/plain": [
       "<IPython.core.display.Markdown object>"
      ]
     },
     "metadata": {},
     "output_type": "display_data"
    },
    {
     "data": {
      "text/markdown": [
       "user:  When will the master admissions for 2025 will open?"
      ],
      "text/plain": [
       "<IPython.core.display.Markdown object>"
      ]
     },
     "metadata": {},
     "output_type": "display_data"
    },
    {
     "data": {
      "text/markdown": [
       "assistant: The joint application period for Master's programs in Finnish universities that begin in September 2025 will be open from January 8 to January 22, 2025. During this period, you can apply for English-taught Bachelor's and Master's degree programs in Finland.\n",
       "\n",
       "For programs starting January 2025, the application period was from August 28 to September 11, 2024.\n",
       "\n",
       "Citations:\n",
       "- [Study in Finland](https://www.studyinfinland.fi/news-events/apply-january-2025-study-start)\n",
       "- [University of Oulu](https://www.oulu.fi/en/apply/how-apply/applying-masters-programmes/deadlines)\n",
       "- [University of Turku](https://www.utu.fi/en/study-at-utu/how-when-to-apply)"
      ],
      "text/plain": [
       "<IPython.core.display.Markdown object>"
      ]
     },
     "metadata": {},
     "output_type": "display_data"
    },
    {
     "data": {
      "text/markdown": [
       "**You (type 'exit' to end):**"
      ],
      "text/plain": [
       "<IPython.core.display.Markdown object>"
      ]
     },
     "metadata": {},
     "output_type": "display_data"
    },
    {
     "name": "stdout",
     "output_type": "stream",
     "text": [
      "  What is the current unemployment allowance?\n"
     ]
    },
    {
     "data": {
      "text/markdown": [
       "Thinking..."
      ],
      "text/plain": [
       "<IPython.core.display.Markdown object>"
      ]
     },
     "metadata": {},
     "output_type": "display_data"
    },
    {
     "data": {
      "text/markdown": [
       "Retrieving updated information..."
      ],
      "text/plain": [
       "<IPython.core.display.Markdown object>"
      ]
     },
     "metadata": {},
     "output_type": "display_data"
    },
    {
     "data": {
      "text/markdown": [
       "Thinking..."
      ],
      "text/plain": [
       "<IPython.core.display.Markdown object>"
      ]
     },
     "metadata": {},
     "output_type": "display_data"
    },
    {
     "data": {
      "text/markdown": [
       "Thinking..."
      ],
      "text/plain": [
       "<IPython.core.display.Markdown object>"
      ]
     },
     "metadata": {},
     "output_type": "display_data"
    },
    {
     "data": {
      "text/markdown": [
       "Thinking..."
      ],
      "text/plain": [
       "<IPython.core.display.Markdown object>"
      ]
     },
     "metadata": {},
     "output_type": "display_data"
    },
    {
     "data": {
      "text/markdown": [
       "user:  What is the current residency period for citizenship?"
      ],
      "text/plain": [
       "<IPython.core.display.Markdown object>"
      ]
     },
     "metadata": {},
     "output_type": "display_data"
    },
    {
     "data": {
      "text/markdown": [
       "assistant: As of now, the period of residence required for acquiring Finnish citizenship will be extended from the current five years to eight years starting from October 1, 2024. This change means that applicants will need to reside in Finland for a minimum of eight years before applying for citizenship, up from the previous requirement of five years. \n",
       "\n",
       "For those with special circumstances, such as being married to a Finnish citizen, the required period may still be shorter.\n",
       "\n",
       "Citations:\n",
       "- [Valtioneuvosto](https://valtioneuvosto.fi/en/-//1410869/stricter-requirements-for-acquiring-finnish-citizenship-the-required-period-of-residence-to-be-extended)\n",
       "- [Yle](https://yle.fi/a/74-20084424)\n",
       "- [Migri](https://migri.fi/en/faq-finnish-citizenship)"
      ],
      "text/plain": [
       "<IPython.core.display.Markdown object>"
      ]
     },
     "metadata": {},
     "output_type": "display_data"
    },
    {
     "data": {
      "text/markdown": [
       "user:  What is the average processing time of student residence permit?"
      ],
      "text/plain": [
       "<IPython.core.display.Markdown object>"
      ]
     },
     "metadata": {},
     "output_type": "display_data"
    },
    {
     "data": {
      "text/markdown": [
       "assistant: As of 2023, the average processing time for a student residence permit in Finland was approximately 38 days. However, recent reports indicate that a significant portion of applications are being processed faster, with nearly 60% of students receiving a decision within 30 days or less. Furthermore, by the end of July 2024, this processing time has reportedly improved to under 30 days, despite a rise in the number of applications.\n",
       "\n",
       "Citations:\n",
       "- [Schengen News](https://schengen.news/finland-processing-student-residence-permits-within-30-days-despite-growing-applications/)\n",
       "- [Triplonia](https://triplonia.com/despite-an-increase-in-applications-finland-processes-student-residence-permits-in-less-than-30-days/)\n",
       "- [EU Helpers](https://euhelpers.co.uk/blog/finland-processing-student-residence-permits-within-30-days-despite-growing-applications)\n",
       "- [Erudera](https://erudera.com/news/finnish-universities-attract-more-intl-students-residence-permit-applications-up-48/)\n",
       "- [Daily Finland](https://www.dailyfinland.fi/education/39212/Number-of-students-residence-permit-applications-on-rise)"
      ],
      "text/plain": [
       "<IPython.core.display.Markdown object>"
      ]
     },
     "metadata": {},
     "output_type": "display_data"
    },
    {
     "data": {
      "text/markdown": [
       "user:  When will the master admissions for 2025 will open?"
      ],
      "text/plain": [
       "<IPython.core.display.Markdown object>"
      ]
     },
     "metadata": {},
     "output_type": "display_data"
    },
    {
     "data": {
      "text/markdown": [
       "assistant: The joint application period for Master's programs in Finnish universities that begin in September 2025 will be open from January 8 to January 22, 2025. During this period, you can apply for English-taught Bachelor's and Master's degree programs in Finland.\n",
       "\n",
       "For programs starting January 2025, the application period was from August 28 to September 11, 2024.\n",
       "\n",
       "Citations:\n",
       "- [Study in Finland](https://www.studyinfinland.fi/news-events/apply-january-2025-study-start)\n",
       "- [University of Oulu](https://www.oulu.fi/en/apply/how-apply/applying-masters-programmes/deadlines)\n",
       "- [University of Turku](https://www.utu.fi/en/study-at-utu/how-when-to-apply)"
      ],
      "text/plain": [
       "<IPython.core.display.Markdown object>"
      ]
     },
     "metadata": {},
     "output_type": "display_data"
    },
    {
     "data": {
      "text/markdown": [
       "user:  What is the current unemployment allowance?"
      ],
      "text/plain": [
       "<IPython.core.display.Markdown object>"
      ]
     },
     "metadata": {},
     "output_type": "display_data"
    },
    {
     "data": {
      "text/markdown": [
       "assistant: As of 2023, the amount of the basic unemployment allowance and the labor market subsidy in Finland is €37.21 per day, an increase from the previous €35.72 per day. This increase means an additional approximately €30 over a four-week payment period. Additionally, supplementary amounts and child increases are also raised in 2023.\n",
       "\n",
       "For more details on earnings-related unemployment allowances, the specific amounts vary based on your previous earnings.\n",
       "\n",
       "Citations:\n",
       "- [Helsinki Times](https://www.helsinkitimes.fi/finland/finland-news/domestic/22706-changes-to-unemployment-benefits-in-2023.html)\n",
       "- [Kela](https://www.kela.fi/unemployment-benefits)"
      ],
      "text/plain": [
       "<IPython.core.display.Markdown object>"
      ]
     },
     "metadata": {},
     "output_type": "display_data"
    },
    {
     "data": {
      "text/markdown": [
       "**You (type 'exit' to end):**"
      ],
      "text/plain": [
       "<IPython.core.display.Markdown object>"
      ]
     },
     "metadata": {},
     "output_type": "display_data"
    },
    {
     "name": "stdout",
     "output_type": "stream",
     "text": [
      "  During the entire continuous period of residence, how much time the applicant may stay abroad.\n"
     ]
    },
    {
     "data": {
      "text/markdown": [
       "Thinking..."
      ],
      "text/plain": [
       "<IPython.core.display.Markdown object>"
      ]
     },
     "metadata": {},
     "output_type": "display_data"
    },
    {
     "data": {
      "text/markdown": [
       "Retrieving updated information..."
      ],
      "text/plain": [
       "<IPython.core.display.Markdown object>"
      ]
     },
     "metadata": {},
     "output_type": "display_data"
    },
    {
     "data": {
      "text/markdown": [
       "Thinking..."
      ],
      "text/plain": [
       "<IPython.core.display.Markdown object>"
      ]
     },
     "metadata": {},
     "output_type": "display_data"
    },
    {
     "data": {
      "text/markdown": [
       "Thinking..."
      ],
      "text/plain": [
       "<IPython.core.display.Markdown object>"
      ]
     },
     "metadata": {},
     "output_type": "display_data"
    },
    {
     "data": {
      "text/markdown": [
       "Thinking..."
      ],
      "text/plain": [
       "<IPython.core.display.Markdown object>"
      ]
     },
     "metadata": {},
     "output_type": "display_data"
    },
    {
     "data": {
      "text/markdown": [
       "user:  What is the current residency period for citizenship?"
      ],
      "text/plain": [
       "<IPython.core.display.Markdown object>"
      ]
     },
     "metadata": {},
     "output_type": "display_data"
    },
    {
     "data": {
      "text/markdown": [
       "assistant: As of now, the period of residence required for acquiring Finnish citizenship will be extended from the current five years to eight years starting from October 1, 2024. This change means that applicants will need to reside in Finland for a minimum of eight years before applying for citizenship, up from the previous requirement of five years. \n",
       "\n",
       "For those with special circumstances, such as being married to a Finnish citizen, the required period may still be shorter.\n",
       "\n",
       "Citations:\n",
       "- [Valtioneuvosto](https://valtioneuvosto.fi/en/-//1410869/stricter-requirements-for-acquiring-finnish-citizenship-the-required-period-of-residence-to-be-extended)\n",
       "- [Yle](https://yle.fi/a/74-20084424)\n",
       "- [Migri](https://migri.fi/en/faq-finnish-citizenship)"
      ],
      "text/plain": [
       "<IPython.core.display.Markdown object>"
      ]
     },
     "metadata": {},
     "output_type": "display_data"
    },
    {
     "data": {
      "text/markdown": [
       "user:  What is the average processing time of student residence permit?"
      ],
      "text/plain": [
       "<IPython.core.display.Markdown object>"
      ]
     },
     "metadata": {},
     "output_type": "display_data"
    },
    {
     "data": {
      "text/markdown": [
       "assistant: As of 2023, the average processing time for a student residence permit in Finland was approximately 38 days. However, recent reports indicate that a significant portion of applications are being processed faster, with nearly 60% of students receiving a decision within 30 days or less. Furthermore, by the end of July 2024, this processing time has reportedly improved to under 30 days, despite a rise in the number of applications.\n",
       "\n",
       "Citations:\n",
       "- [Schengen News](https://schengen.news/finland-processing-student-residence-permits-within-30-days-despite-growing-applications/)\n",
       "- [Triplonia](https://triplonia.com/despite-an-increase-in-applications-finland-processes-student-residence-permits-in-less-than-30-days/)\n",
       "- [EU Helpers](https://euhelpers.co.uk/blog/finland-processing-student-residence-permits-within-30-days-despite-growing-applications)\n",
       "- [Erudera](https://erudera.com/news/finnish-universities-attract-more-intl-students-residence-permit-applications-up-48/)\n",
       "- [Daily Finland](https://www.dailyfinland.fi/education/39212/Number-of-students-residence-permit-applications-on-rise)"
      ],
      "text/plain": [
       "<IPython.core.display.Markdown object>"
      ]
     },
     "metadata": {},
     "output_type": "display_data"
    },
    {
     "data": {
      "text/markdown": [
       "user:  When will the master admissions for 2025 will open?"
      ],
      "text/plain": [
       "<IPython.core.display.Markdown object>"
      ]
     },
     "metadata": {},
     "output_type": "display_data"
    },
    {
     "data": {
      "text/markdown": [
       "assistant: The joint application period for Master's programs in Finnish universities that begin in September 2025 will be open from January 8 to January 22, 2025. During this period, you can apply for English-taught Bachelor's and Master's degree programs in Finland.\n",
       "\n",
       "For programs starting January 2025, the application period was from August 28 to September 11, 2024.\n",
       "\n",
       "Citations:\n",
       "- [Study in Finland](https://www.studyinfinland.fi/news-events/apply-january-2025-study-start)\n",
       "- [University of Oulu](https://www.oulu.fi/en/apply/how-apply/applying-masters-programmes/deadlines)\n",
       "- [University of Turku](https://www.utu.fi/en/study-at-utu/how-when-to-apply)"
      ],
      "text/plain": [
       "<IPython.core.display.Markdown object>"
      ]
     },
     "metadata": {},
     "output_type": "display_data"
    },
    {
     "data": {
      "text/markdown": [
       "user:  What is the current unemployment allowance?"
      ],
      "text/plain": [
       "<IPython.core.display.Markdown object>"
      ]
     },
     "metadata": {},
     "output_type": "display_data"
    },
    {
     "data": {
      "text/markdown": [
       "assistant: As of 2023, the amount of the basic unemployment allowance and the labor market subsidy in Finland is €37.21 per day, an increase from the previous €35.72 per day. This increase means an additional approximately €30 over a four-week payment period. Additionally, supplementary amounts and child increases are also raised in 2023.\n",
       "\n",
       "For more details on earnings-related unemployment allowances, the specific amounts vary based on your previous earnings.\n",
       "\n",
       "Citations:\n",
       "- [Helsinki Times](https://www.helsinkitimes.fi/finland/finland-news/domestic/22706-changes-to-unemployment-benefits-in-2023.html)\n",
       "- [Kela](https://www.kela.fi/unemployment-benefits)"
      ],
      "text/plain": [
       "<IPython.core.display.Markdown object>"
      ]
     },
     "metadata": {},
     "output_type": "display_data"
    },
    {
     "data": {
      "text/markdown": [
       "user:  During the entire continuous period of residence, how much time the applicant may stay abroad."
      ],
      "text/plain": [
       "<IPython.core.display.Markdown object>"
      ]
     },
     "metadata": {},
     "output_type": "display_data"
    },
    {
     "data": {
      "text/markdown": [
       "assistant: During the entire continuous period of residence required for Finnish citizenship, an applicant may stay abroad for a total of one year. However, it is important to note that no more than three months of this one-year period may take place during the year immediately preceding the application for naturalization. \n",
       "\n",
       "These rules are part of the stricter requirements being implemented for acquiring Finnish citizenship.\n",
       "\n",
       "Citations:\n",
       "- [Valtioneuvosto](https://valtioneuvosto.fi/en/-/1410869/stricter-requirements-for-acquiring-finnish-citizenship-the-required-period-of-residence-to-be-extended)\n",
       "- [Migri](https://migri.fi/en/period-of-residence)"
      ],
      "text/plain": [
       "<IPython.core.display.Markdown object>"
      ]
     },
     "metadata": {},
     "output_type": "display_data"
    },
    {
     "data": {
      "text/markdown": [
       "**You (type 'exit' to end):**"
      ],
      "text/plain": [
       "<IPython.core.display.Markdown object>"
      ]
     },
     "metadata": {},
     "output_type": "display_data"
    },
    {
     "name": "stdout",
     "output_type": "stream",
     "text": [
      " What is the current residency period for citizenship?\n"
     ]
    },
    {
     "data": {
      "text/markdown": [
       "Thinking..."
      ],
      "text/plain": [
       "<IPython.core.display.Markdown object>"
      ]
     },
     "metadata": {},
     "output_type": "display_data"
    },
    {
     "data": {
      "text/markdown": [
       "Thinking..."
      ],
      "text/plain": [
       "<IPython.core.display.Markdown object>"
      ]
     },
     "metadata": {},
     "output_type": "display_data"
    },
    {
     "data": {
      "text/markdown": [
       "Retrieving updated information..."
      ],
      "text/plain": [
       "<IPython.core.display.Markdown object>"
      ]
     },
     "metadata": {},
     "output_type": "display_data"
    },
    {
     "data": {
      "text/markdown": [
       "Retrieving updated information..."
      ],
      "text/plain": [
       "<IPython.core.display.Markdown object>"
      ]
     },
     "metadata": {},
     "output_type": "display_data"
    },
    {
     "data": {
      "text/markdown": [
       "Thinking..."
      ],
      "text/plain": [
       "<IPython.core.display.Markdown object>"
      ]
     },
     "metadata": {},
     "output_type": "display_data"
    },
    {
     "data": {
      "text/markdown": [
       "Thinking..."
      ],
      "text/plain": [
       "<IPython.core.display.Markdown object>"
      ]
     },
     "metadata": {},
     "output_type": "display_data"
    },
    {
     "data": {
      "text/markdown": [
       "Thinking..."
      ],
      "text/plain": [
       "<IPython.core.display.Markdown object>"
      ]
     },
     "metadata": {},
     "output_type": "display_data"
    },
    {
     "data": {
      "text/markdown": [
       "user:  What is the current residency period for citizenship?"
      ],
      "text/plain": [
       "<IPython.core.display.Markdown object>"
      ]
     },
     "metadata": {},
     "output_type": "display_data"
    },
    {
     "data": {
      "text/markdown": [
       "assistant: As of now, the period of residence required for acquiring Finnish citizenship will be extended from the current five years to eight years starting from October 1, 2024. This change means that applicants will need to reside in Finland for a minimum of eight years before applying for citizenship, up from the previous requirement of five years. \n",
       "\n",
       "For those with special circumstances, such as being married to a Finnish citizen, the required period may still be shorter.\n",
       "\n",
       "Citations:\n",
       "- [Valtioneuvosto](https://valtioneuvosto.fi/en/-//1410869/stricter-requirements-for-acquiring-finnish-citizenship-the-required-period-of-residence-to-be-extended)\n",
       "- [Yle](https://yle.fi/a/74-20084424)\n",
       "- [Migri](https://migri.fi/en/faq-finnish-citizenship)"
      ],
      "text/plain": [
       "<IPython.core.display.Markdown object>"
      ]
     },
     "metadata": {},
     "output_type": "display_data"
    },
    {
     "data": {
      "text/markdown": [
       "user:  What is the average processing time of student residence permit?"
      ],
      "text/plain": [
       "<IPython.core.display.Markdown object>"
      ]
     },
     "metadata": {},
     "output_type": "display_data"
    },
    {
     "data": {
      "text/markdown": [
       "assistant: As of 2023, the average processing time for a student residence permit in Finland was approximately 38 days. However, recent reports indicate that a significant portion of applications are being processed faster, with nearly 60% of students receiving a decision within 30 days or less. Furthermore, by the end of July 2024, this processing time has reportedly improved to under 30 days, despite a rise in the number of applications.\n",
       "\n",
       "Citations:\n",
       "- [Schengen News](https://schengen.news/finland-processing-student-residence-permits-within-30-days-despite-growing-applications/)\n",
       "- [Triplonia](https://triplonia.com/despite-an-increase-in-applications-finland-processes-student-residence-permits-in-less-than-30-days/)\n",
       "- [EU Helpers](https://euhelpers.co.uk/blog/finland-processing-student-residence-permits-within-30-days-despite-growing-applications)\n",
       "- [Erudera](https://erudera.com/news/finnish-universities-attract-more-intl-students-residence-permit-applications-up-48/)\n",
       "- [Daily Finland](https://www.dailyfinland.fi/education/39212/Number-of-students-residence-permit-applications-on-rise)"
      ],
      "text/plain": [
       "<IPython.core.display.Markdown object>"
      ]
     },
     "metadata": {},
     "output_type": "display_data"
    },
    {
     "data": {
      "text/markdown": [
       "user:  When will the master admissions for 2025 will open?"
      ],
      "text/plain": [
       "<IPython.core.display.Markdown object>"
      ]
     },
     "metadata": {},
     "output_type": "display_data"
    },
    {
     "data": {
      "text/markdown": [
       "assistant: The joint application period for Master's programs in Finnish universities that begin in September 2025 will be open from January 8 to January 22, 2025. During this period, you can apply for English-taught Bachelor's and Master's degree programs in Finland.\n",
       "\n",
       "For programs starting January 2025, the application period was from August 28 to September 11, 2024.\n",
       "\n",
       "Citations:\n",
       "- [Study in Finland](https://www.studyinfinland.fi/news-events/apply-january-2025-study-start)\n",
       "- [University of Oulu](https://www.oulu.fi/en/apply/how-apply/applying-masters-programmes/deadlines)\n",
       "- [University of Turku](https://www.utu.fi/en/study-at-utu/how-when-to-apply)"
      ],
      "text/plain": [
       "<IPython.core.display.Markdown object>"
      ]
     },
     "metadata": {},
     "output_type": "display_data"
    },
    {
     "data": {
      "text/markdown": [
       "user:  What is the current unemployment allowance?"
      ],
      "text/plain": [
       "<IPython.core.display.Markdown object>"
      ]
     },
     "metadata": {},
     "output_type": "display_data"
    },
    {
     "data": {
      "text/markdown": [
       "assistant: As of 2023, the amount of the basic unemployment allowance and the labor market subsidy in Finland is €37.21 per day, an increase from the previous €35.72 per day. This increase means an additional approximately €30 over a four-week payment period. Additionally, supplementary amounts and child increases are also raised in 2023.\n",
       "\n",
       "For more details on earnings-related unemployment allowances, the specific amounts vary based on your previous earnings.\n",
       "\n",
       "Citations:\n",
       "- [Helsinki Times](https://www.helsinkitimes.fi/finland/finland-news/domestic/22706-changes-to-unemployment-benefits-in-2023.html)\n",
       "- [Kela](https://www.kela.fi/unemployment-benefits)"
      ],
      "text/plain": [
       "<IPython.core.display.Markdown object>"
      ]
     },
     "metadata": {},
     "output_type": "display_data"
    },
    {
     "data": {
      "text/markdown": [
       "user:  During the entire continuous period of residence, how much time the applicant may stay abroad."
      ],
      "text/plain": [
       "<IPython.core.display.Markdown object>"
      ]
     },
     "metadata": {},
     "output_type": "display_data"
    },
    {
     "data": {
      "text/markdown": [
       "assistant: During the entire continuous period of residence required for Finnish citizenship, an applicant may stay abroad for a total of one year. However, it is important to note that no more than three months of this one-year period may take place during the year immediately preceding the application for naturalization. \n",
       "\n",
       "These rules are part of the stricter requirements being implemented for acquiring Finnish citizenship.\n",
       "\n",
       "Citations:\n",
       "- [Valtioneuvosto](https://valtioneuvosto.fi/en/-/1410869/stricter-requirements-for-acquiring-finnish-citizenship-the-required-period-of-residence-to-be-extended)\n",
       "- [Migri](https://migri.fi/en/period-of-residence)"
      ],
      "text/plain": [
       "<IPython.core.display.Markdown object>"
      ]
     },
     "metadata": {},
     "output_type": "display_data"
    },
    {
     "data": {
      "text/markdown": [
       "user: What is the current residency period for citizenship?"
      ],
      "text/plain": [
       "<IPython.core.display.Markdown object>"
      ]
     },
     "metadata": {},
     "output_type": "display_data"
    },
    {
     "data": {
      "text/markdown": [
       "assistant: Currently, the period of residence required for acquiring Finnish citizenship is five years. However, this period will be extended to eight years starting from October 1, 2024. The new law will require applicants to have lived in Finland for a continuous period of eight years, emphasizing successful integration as a prerequisite for citizenship.\n",
       "\n",
       "If an application is submitted before October 1, 2024, the five-year requirement will still apply.\n",
       "\n",
       "Citations:\n",
       "- [Valtioneuvosto](https://migri.fi/en/-/longer-period-of-residence-required-for-citizenship-as-of-1-october-2024)\n",
       "- [Valtioneuvosto](https://valtioneuvosto.fi/en/-/1410869/stricter-requirements-for-acquiring-finnish-citizenship-the-required-period-of-residence-to-be-extended)\n",
       "- [Migri](https://migri.fi/en/period-of-residence)"
      ],
      "text/plain": [
       "<IPython.core.display.Markdown object>"
      ]
     },
     "metadata": {},
     "output_type": "display_data"
    },
    {
     "data": {
      "text/markdown": [
       "**You (type 'exit' to end):**"
      ],
      "text/plain": [
       "<IPython.core.display.Markdown object>"
      ]
     },
     "metadata": {},
     "output_type": "display_data"
    },
    {
     "name": "stdout",
     "output_type": "stream",
     "text": [
      " What will be the change in the tuition fees from 2024?\n"
     ]
    },
    {
     "data": {
      "text/markdown": [
       "Thinking..."
      ],
      "text/plain": [
       "<IPython.core.display.Markdown object>"
      ]
     },
     "metadata": {},
     "output_type": "display_data"
    },
    {
     "data": {
      "text/markdown": [
       "Retrieving updated information..."
      ],
      "text/plain": [
       "<IPython.core.display.Markdown object>"
      ]
     },
     "metadata": {},
     "output_type": "display_data"
    },
    {
     "data": {
      "text/markdown": [
       "Thinking..."
      ],
      "text/plain": [
       "<IPython.core.display.Markdown object>"
      ]
     },
     "metadata": {},
     "output_type": "display_data"
    },
    {
     "data": {
      "text/markdown": [
       "Thinking..."
      ],
      "text/plain": [
       "<IPython.core.display.Markdown object>"
      ]
     },
     "metadata": {},
     "output_type": "display_data"
    },
    {
     "data": {
      "text/markdown": [
       "Thinking..."
      ],
      "text/plain": [
       "<IPython.core.display.Markdown object>"
      ]
     },
     "metadata": {},
     "output_type": "display_data"
    },
    {
     "data": {
      "text/markdown": [
       "Thinking..."
      ],
      "text/plain": [
       "<IPython.core.display.Markdown object>"
      ]
     },
     "metadata": {},
     "output_type": "display_data"
    },
    {
     "data": {
      "text/markdown": [
       "user:  What is the current residency period for citizenship?"
      ],
      "text/plain": [
       "<IPython.core.display.Markdown object>"
      ]
     },
     "metadata": {},
     "output_type": "display_data"
    },
    {
     "data": {
      "text/markdown": [
       "assistant: As of now, the period of residence required for acquiring Finnish citizenship will be extended from the current five years to eight years starting from October 1, 2024. This change means that applicants will need to reside in Finland for a minimum of eight years before applying for citizenship, up from the previous requirement of five years. \n",
       "\n",
       "For those with special circumstances, such as being married to a Finnish citizen, the required period may still be shorter.\n",
       "\n",
       "Citations:\n",
       "- [Valtioneuvosto](https://valtioneuvosto.fi/en/-//1410869/stricter-requirements-for-acquiring-finnish-citizenship-the-required-period-of-residence-to-be-extended)\n",
       "- [Yle](https://yle.fi/a/74-20084424)\n",
       "- [Migri](https://migri.fi/en/faq-finnish-citizenship)"
      ],
      "text/plain": [
       "<IPython.core.display.Markdown object>"
      ]
     },
     "metadata": {},
     "output_type": "display_data"
    },
    {
     "data": {
      "text/markdown": [
       "user:  What is the average processing time of student residence permit?"
      ],
      "text/plain": [
       "<IPython.core.display.Markdown object>"
      ]
     },
     "metadata": {},
     "output_type": "display_data"
    },
    {
     "data": {
      "text/markdown": [
       "assistant: As of 2023, the average processing time for a student residence permit in Finland was approximately 38 days. However, recent reports indicate that a significant portion of applications are being processed faster, with nearly 60% of students receiving a decision within 30 days or less. Furthermore, by the end of July 2024, this processing time has reportedly improved to under 30 days, despite a rise in the number of applications.\n",
       "\n",
       "Citations:\n",
       "- [Schengen News](https://schengen.news/finland-processing-student-residence-permits-within-30-days-despite-growing-applications/)\n",
       "- [Triplonia](https://triplonia.com/despite-an-increase-in-applications-finland-processes-student-residence-permits-in-less-than-30-days/)\n",
       "- [EU Helpers](https://euhelpers.co.uk/blog/finland-processing-student-residence-permits-within-30-days-despite-growing-applications)\n",
       "- [Erudera](https://erudera.com/news/finnish-universities-attract-more-intl-students-residence-permit-applications-up-48/)\n",
       "- [Daily Finland](https://www.dailyfinland.fi/education/39212/Number-of-students-residence-permit-applications-on-rise)"
      ],
      "text/plain": [
       "<IPython.core.display.Markdown object>"
      ]
     },
     "metadata": {},
     "output_type": "display_data"
    },
    {
     "data": {
      "text/markdown": [
       "user:  When will the master admissions for 2025 will open?"
      ],
      "text/plain": [
       "<IPython.core.display.Markdown object>"
      ]
     },
     "metadata": {},
     "output_type": "display_data"
    },
    {
     "data": {
      "text/markdown": [
       "assistant: The joint application period for Master's programs in Finnish universities that begin in September 2025 will be open from January 8 to January 22, 2025. During this period, you can apply for English-taught Bachelor's and Master's degree programs in Finland.\n",
       "\n",
       "For programs starting January 2025, the application period was from August 28 to September 11, 2024.\n",
       "\n",
       "Citations:\n",
       "- [Study in Finland](https://www.studyinfinland.fi/news-events/apply-january-2025-study-start)\n",
       "- [University of Oulu](https://www.oulu.fi/en/apply/how-apply/applying-masters-programmes/deadlines)\n",
       "- [University of Turku](https://www.utu.fi/en/study-at-utu/how-when-to-apply)"
      ],
      "text/plain": [
       "<IPython.core.display.Markdown object>"
      ]
     },
     "metadata": {},
     "output_type": "display_data"
    },
    {
     "data": {
      "text/markdown": [
       "user:  What is the current unemployment allowance?"
      ],
      "text/plain": [
       "<IPython.core.display.Markdown object>"
      ]
     },
     "metadata": {},
     "output_type": "display_data"
    },
    {
     "data": {
      "text/markdown": [
       "assistant: As of 2023, the amount of the basic unemployment allowance and the labor market subsidy in Finland is €37.21 per day, an increase from the previous €35.72 per day. This increase means an additional approximately €30 over a four-week payment period. Additionally, supplementary amounts and child increases are also raised in 2023.\n",
       "\n",
       "For more details on earnings-related unemployment allowances, the specific amounts vary based on your previous earnings.\n",
       "\n",
       "Citations:\n",
       "- [Helsinki Times](https://www.helsinkitimes.fi/finland/finland-news/domestic/22706-changes-to-unemployment-benefits-in-2023.html)\n",
       "- [Kela](https://www.kela.fi/unemployment-benefits)"
      ],
      "text/plain": [
       "<IPython.core.display.Markdown object>"
      ]
     },
     "metadata": {},
     "output_type": "display_data"
    },
    {
     "data": {
      "text/markdown": [
       "user:  During the entire continuous period of residence, how much time the applicant may stay abroad."
      ],
      "text/plain": [
       "<IPython.core.display.Markdown object>"
      ]
     },
     "metadata": {},
     "output_type": "display_data"
    },
    {
     "data": {
      "text/markdown": [
       "assistant: During the entire continuous period of residence required for Finnish citizenship, an applicant may stay abroad for a total of one year. However, it is important to note that no more than three months of this one-year period may take place during the year immediately preceding the application for naturalization. \n",
       "\n",
       "These rules are part of the stricter requirements being implemented for acquiring Finnish citizenship.\n",
       "\n",
       "Citations:\n",
       "- [Valtioneuvosto](https://valtioneuvosto.fi/en/-/1410869/stricter-requirements-for-acquiring-finnish-citizenship-the-required-period-of-residence-to-be-extended)\n",
       "- [Migri](https://migri.fi/en/period-of-residence)"
      ],
      "text/plain": [
       "<IPython.core.display.Markdown object>"
      ]
     },
     "metadata": {},
     "output_type": "display_data"
    },
    {
     "data": {
      "text/markdown": [
       "user: What is the current residency period for citizenship?"
      ],
      "text/plain": [
       "<IPython.core.display.Markdown object>"
      ]
     },
     "metadata": {},
     "output_type": "display_data"
    },
    {
     "data": {
      "text/markdown": [
       "assistant: Currently, the period of residence required for acquiring Finnish citizenship is five years. However, this period will be extended to eight years starting from October 1, 2024. The new law will require applicants to have lived in Finland for a continuous period of eight years, emphasizing successful integration as a prerequisite for citizenship.\n",
       "\n",
       "If an application is submitted before October 1, 2024, the five-year requirement will still apply.\n",
       "\n",
       "Citations:\n",
       "- [Valtioneuvosto](https://migri.fi/en/-/longer-period-of-residence-required-for-citizenship-as-of-1-october-2024)\n",
       "- [Valtioneuvosto](https://valtioneuvosto.fi/en/-/1410869/stricter-requirements-for-acquiring-finnish-citizenship-the-required-period-of-residence-to-be-extended)\n",
       "- [Migri](https://migri.fi/en/period-of-residence)"
      ],
      "text/plain": [
       "<IPython.core.display.Markdown object>"
      ]
     },
     "metadata": {},
     "output_type": "display_data"
    },
    {
     "data": {
      "text/markdown": [
       "user: What will be the change in the tuition fees from 2024?"
      ],
      "text/plain": [
       "<IPython.core.display.Markdown object>"
      ]
     },
     "metadata": {},
     "output_type": "display_data"
    },
    {
     "data": {
      "text/markdown": [
       "assistant: Starting in 2024, there will be significant changes to tuition fees in Finnish universities for non-EU and non-EEA students. The proposed legislative changes mean that these students will be required to pay full tuition fees that cover the total cost of their education, along with an application fee.\n",
       "\n",
       "For specific institutions, for example:\n",
       "- At Tampere University of Applied Sciences (TAMK), the tuition fee for non-EU and non-EEA students will rise to €12,000 per academic year. This is an increase from the previous fees of €9,800 for Bachelor's degrees and €10,800 for Master's degrees for students who started their studies in 2023 or earlier.\n",
       "\n",
       "These changes are aimed at improving the financial sustainability of higher education institutions and encouraging international students to remain in Finland after graduation.\n",
       "\n",
       "Citations:\n",
       "- [Yle](https://yle.fi/a/74-20089083)\n",
       "- [TAMK](https://www.tuni.fi/en/students-guide/handbook/tamk/starting-your-studies/studying-tampere/tuition-fees)"
      ],
      "text/plain": [
       "<IPython.core.display.Markdown object>"
      ]
     },
     "metadata": {},
     "output_type": "display_data"
    },
    {
     "data": {
      "text/markdown": [
       "**You (type 'exit' to end):**"
      ],
      "text/plain": [
       "<IPython.core.display.Markdown object>"
      ]
     },
     "metadata": {},
     "output_type": "display_data"
    },
    {
     "name": "stdout",
     "output_type": "stream",
     "text": [
      " exit\n"
     ]
    }
   ],
   "source": [
    "\"\"\"Create a thread for the assistant and maintain chat.\"\"\"\n",
    "import os\n",
    "import json\n",
    "import time\n",
    "from openai import OpenAI\n",
    "from tavily import TavilyClient\n",
    "from IPython.display import display, Markdown\n",
    "\n",
    "# Function to perform a Tavily search\n",
    "def tavily_search(query):\n",
    "    display(Markdown(\"Retrieving updated information...\"))  # Status message when using TavilyClient\n",
    "    search_result = tavily_client.get_search_context(query, search_depth=\"advanced\", max_tokens=8000)\n",
    "    return search_result\n",
    "\n",
    "# Function to wait for a run to complete\n",
    "def wait_for_run_completion(thread_id, run_id):\n",
    "    while True:\n",
    "        display(Markdown(\"Thinking...\"))\n",
    "        time.sleep(1)\n",
    "        run = client.beta.threads.runs.retrieve(thread_id=thread_id, run_id=run_id)\n",
    "        if run.status in ['completed', 'failed', 'requires_action']:\n",
    "            return run\n",
    "\n",
    "# Function to handle tool output submission\n",
    "def submit_tool_outputs(thread_id, run_id, tools_to_call):\n",
    "    tool_output_array = []\n",
    "    for tool in tools_to_call:\n",
    "        output = None\n",
    "        tool_call_id = tool.id\n",
    "        function_name = tool.function.name\n",
    "        function_args = tool.function.arguments\n",
    "\n",
    "        if function_name == \"tavily_search\":\n",
    "            output = tavily_search(query=json.loads(function_args)[\"query\"])\n",
    "\n",
    "        if output:\n",
    "            tool_output_array.append({\"tool_call_id\": tool_call_id, \"output\": output})\n",
    "\n",
    "    return client.beta.threads.runs.submit_tool_outputs(\n",
    "        thread_id=thread_id,\n",
    "        run_id=run_id,\n",
    "        tool_outputs=tool_output_array\n",
    "    )\n",
    "\n",
    "# Function to print messages from a thread, ensuring they appear in the correct order\n",
    "def print_messages_from_thread(thread_id):\n",
    "    messages = client.beta.threads.messages.list(thread_id=thread_id)\n",
    "    sorted_messages = sorted(messages, key=lambda msg: msg.created_at)  # Sort by creation time\n",
    "    for msg in sorted_messages:\n",
    "        display(Markdown(f\"{msg.role}: {msg.content[0].text.value}\"))\n",
    "\n",
    "# Create a thread\n",
    "thread = client.beta.threads.create()\n",
    "print(f\"Thread: {thread}\")\n",
    "\n",
    "\n",
    "# Ongoing conversation loop\n",
    "while True:\n",
    "    display(Markdown(\"**You (type 'exit' to end):**\"))\n",
    "    user_input = input()\n",
    "    if user_input.lower() == 'exit':\n",
    "        break\n",
    "\n",
    "    # Create a message\n",
    "    message = client.beta.threads.messages.create(\n",
    "        thread_id=thread.id,\n",
    "        role=\"user\",\n",
    "        content=user_input,\n",
    "    )\n",
    "\n",
    "    # Create a run\n",
    "    run = client.beta.threads.runs.create(\n",
    "        thread_id=thread.id,\n",
    "        assistant_id=assistant_id,\n",
    "    )\n",
    "\n",
    "    # Wait for run to complete\n",
    "    run = wait_for_run_completion(thread.id, run.id)\n",
    "\n",
    "    if run.status == 'failed':\n",
    "        print(run.error)\n",
    "        continue\n",
    "    elif run.status == 'requires_action':\n",
    "        run = submit_tool_outputs(thread.id, run.id, run.required_action.submit_tool_outputs.tool_calls)\n",
    "        run = wait_for_run_completion(thread.id, run.id)\n",
    "\n",
    "    # Print messages from the thread\n",
    "    print_messages_from_thread(thread.id)\n"
   ]
  },
  {
   "cell_type": "code",
   "execution_count": null,
   "id": "62f8017f-be89-4f8d-a1d5-4dd4740c54cd",
   "metadata": {},
   "outputs": [],
   "source": []
  }
 ],
 "metadata": {
  "kernelspec": {
   "display_name": "Python (my_env)",
   "language": "python",
   "name": "my_env"
  },
  "language_info": {
   "codemirror_mode": {
    "name": "ipython",
    "version": 3
   },
   "file_extension": ".py",
   "mimetype": "text/x-python",
   "name": "python",
   "nbconvert_exporter": "python",
   "pygments_lexer": "ipython3",
   "version": "3.12.3"
  }
 },
 "nbformat": 4,
 "nbformat_minor": 5
}
