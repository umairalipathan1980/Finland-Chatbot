{
 "cells": [
  {
   "cell_type": "code",
   "execution_count": 5,
   "id": "ac5a292d-e86b-419f-a92a-52d3ec1f386c",
   "metadata": {},
   "outputs": [
    {
     "name": "stdout",
     "output_type": "stream",
     "text": [
      "Assistant Created. Assistant ID: asst_WL5Ttz9FaPKVit50Y8CaKaUm\n"
     ]
    }
   ],
   "source": [
    "# pip install tavily-python\n",
    "\n",
    "import os\n",
    "import json\n",
    "import time\n",
    "from openai import OpenAI\n",
    "from tavily import TavilyClient\n",
    "from IPython.display import display, Markdown\n",
    "\n",
    "# Initialize clients with API keys\n",
    "client = OpenAI(api_key=os.environ[\"OPENAI_API_KEY\"])\n",
    "tavily_client = TavilyClient(api_key=os.environ[\"TAVILY_API_KEY\"])\n",
    "\n",
    "assistant_prompt_instruction = \"\"\"You are an immigration expert having expertise in Finnish immigration and integration. \n",
    "Your goal is to provide updated information from the internet using Tavily search API function. \n",
    "If no relevant information is found on the internet, utilize your own knowledge\n",
    "to answer the question. In either case, acknowledge the source of the information. \n",
    "If the information is not present in your own knowledge, simply say that you cannot provide the requested information.\n",
    "In case of an internet search, Please include relevant url sources at the end of your answers.\n",
    "Analyze the query to determine whether the question requires internet access to find the updated information. \n",
    "Internet access may be required for queries asking for information on rapidly changing policies, current statistics, or other recent facts (e.g., current tax rate, tution fees, visa processing fee, residency period, etc.\n",
    "It is important to note that you only have to answer queries related to Finland in general (e.g, location, history, economy, etc.), Finnish immigration,\n",
    "Finnish culture, Finnish lifestyle, or integration in Finland. For all other non-related queries, simply respond by giving an appropriate message\n",
    "\"\"\"\n",
    "\n",
    "# Create an assistant\n",
    "assistant = client.beta.assistants.create(\n",
    "    instructions=assistant_prompt_instruction,\n",
    "    model=\"gpt-4o-mini\",\n",
    "    tools=[{\n",
    "        \"type\": \"function\",\n",
    "        \"function\": {\n",
    "            \"name\": \"tavily_search\",\n",
    "            \"description\": \"Get information on recent events from the web.\",\n",
    "            \"parameters\": {\n",
    "                \"type\": \"object\",\n",
    "                \"properties\": {\n",
    "                    \"query\": {\"type\": \"string\", \"description\": \"The search query to use. For example: 'What is the average processing time of residence permit?'\"},\n",
    "                },\n",
    "                \"required\": [\"query\"]\n",
    "            }\n",
    "        }\n",
    "    }]\n",
    ")\n",
    "assistant_id = assistant.id\n",
    "print(f\"Assistant Created. Assistant ID: {assistant_id}\")"
   ]
  },
  {
   "cell_type": "code",
   "execution_count": null,
   "id": "9bad736e-4bd4-480c-8144-7f20fd27c0b6",
   "metadata": {},
   "outputs": [
    {
     "name": "stdout",
     "output_type": "stream",
     "text": [
      "Thread: Thread(id='thread_YgRoszPFmcmHwa2OA5M1rah3', created_at=1727907293, metadata={}, object='thread', tool_resources=ToolResources(code_interpreter=None, file_search=None))\n"
     ]
    },
    {
     "data": {
      "text/markdown": [
       "**You (type 'exit' to end):**"
      ],
      "text/plain": [
       "<IPython.core.display.Markdown object>"
      ]
     },
     "metadata": {},
     "output_type": "display_data"
    },
    {
     "name": "stdout",
     "output_type": "stream",
     "text": [
      " What is the current residency period for citizenship?\n"
     ]
    },
    {
     "data": {
      "text/markdown": [
       "Thinking..."
      ],
      "text/plain": [
       "<IPython.core.display.Markdown object>"
      ]
     },
     "metadata": {},
     "output_type": "display_data"
    },
    {
     "data": {
      "text/markdown": [
       "Retrieving updated information..."
      ],
      "text/plain": [
       "<IPython.core.display.Markdown object>"
      ]
     },
     "metadata": {},
     "output_type": "display_data"
    },
    {
     "data": {
      "text/markdown": [
       "Thinking..."
      ],
      "text/plain": [
       "<IPython.core.display.Markdown object>"
      ]
     },
     "metadata": {},
     "output_type": "display_data"
    },
    {
     "data": {
      "text/markdown": [
       "user: What is the current residency period for citizenship?"
      ],
      "text/plain": [
       "<IPython.core.display.Markdown object>"
      ]
     },
     "metadata": {},
     "output_type": "display_data"
    },
    {
     "data": {
      "text/markdown": [
       "assistant: The current residency period required for obtaining Finnish citizenship will be extended from five years to eight years starting on October 1, 2024. This change emphasizes the importance of successful integration into Finnish society as a prerequisite for citizenship.\n",
       "\n",
       "Sources for this information include:\n",
       "\n",
       "1. [Valtioneuvosto - Government proposal for stricter requirements](https://valtioneuvosto.fi/en/-/1410869/government-submits-proposal-to-parliament-on-stricter-requirements-for-acquiring-finnish-citizenship)\n",
       "2. [Migri - Longer period of residence required for citizenship](https://migri.fi/en/-/longer-period-of-residence-required-for-citizenship)\n",
       "3. [YLE News - Finnish citizenship residency requirements](https://yle.fi/a/74-20098223)"
      ],
      "text/plain": [
       "<IPython.core.display.Markdown object>"
      ]
     },
     "metadata": {},
     "output_type": "display_data"
    },
    {
     "data": {
      "text/markdown": [
       "**You (type 'exit' to end):**"
      ],
      "text/plain": [
       "<IPython.core.display.Markdown object>"
      ]
     },
     "metadata": {},
     "output_type": "display_data"
    },
    {
     "name": "stdout",
     "output_type": "stream",
     "text": [
      " What is the average processing time of student residence permit?\n"
     ]
    },
    {
     "data": {
      "text/markdown": [
       "Thinking..."
      ],
      "text/plain": [
       "<IPython.core.display.Markdown object>"
      ]
     },
     "metadata": {},
     "output_type": "display_data"
    },
    {
     "data": {
      "text/markdown": [
       "Retrieving updated information..."
      ],
      "text/plain": [
       "<IPython.core.display.Markdown object>"
      ]
     },
     "metadata": {},
     "output_type": "display_data"
    },
    {
     "data": {
      "text/markdown": [
       "Thinking..."
      ],
      "text/plain": [
       "<IPython.core.display.Markdown object>"
      ]
     },
     "metadata": {},
     "output_type": "display_data"
    },
    {
     "data": {
      "text/markdown": [
       "Thinking..."
      ],
      "text/plain": [
       "<IPython.core.display.Markdown object>"
      ]
     },
     "metadata": {},
     "output_type": "display_data"
    },
    {
     "data": {
      "text/markdown": [
       "Thinking..."
      ],
      "text/plain": [
       "<IPython.core.display.Markdown object>"
      ]
     },
     "metadata": {},
     "output_type": "display_data"
    },
    {
     "data": {
      "text/markdown": [
       "Thinking..."
      ],
      "text/plain": [
       "<IPython.core.display.Markdown object>"
      ]
     },
     "metadata": {},
     "output_type": "display_data"
    },
    {
     "data": {
      "text/markdown": [
       "user: What is the current residency period for citizenship?"
      ],
      "text/plain": [
       "<IPython.core.display.Markdown object>"
      ]
     },
     "metadata": {},
     "output_type": "display_data"
    },
    {
     "data": {
      "text/markdown": [
       "assistant: The current residency period required for obtaining Finnish citizenship will be extended from five years to eight years starting on October 1, 2024. This change emphasizes the importance of successful integration into Finnish society as a prerequisite for citizenship.\n",
       "\n",
       "Sources for this information include:\n",
       "\n",
       "1. [Valtioneuvosto - Government proposal for stricter requirements](https://valtioneuvosto.fi/en/-/1410869/government-submits-proposal-to-parliament-on-stricter-requirements-for-acquiring-finnish-citizenship)\n",
       "2. [Migri - Longer period of residence required for citizenship](https://migri.fi/en/-/longer-period-of-residence-required-for-citizenship)\n",
       "3. [YLE News - Finnish citizenship residency requirements](https://yle.fi/a/74-20098223)"
      ],
      "text/plain": [
       "<IPython.core.display.Markdown object>"
      ]
     },
     "metadata": {},
     "output_type": "display_data"
    },
    {
     "data": {
      "text/markdown": [
       "user: What is the average processing time of student residence permit?"
      ],
      "text/plain": [
       "<IPython.core.display.Markdown object>"
      ]
     },
     "metadata": {},
     "output_type": "display_data"
    },
    {
     "data": {
      "text/markdown": [
       "assistant: The average processing time for a student residence permit in Finland is as follows:\n",
       "\n",
       "- For first-time applications, approximately 94% of students receive a decision within 30 days or less.\n",
       "- In 2023, the average processing time was around 38 days.\n",
       "- The Finnish Immigration Service (Migri) aims for an average processing time of no more than one month, especially for workers and students.\n",
       "\n",
       "These improvements in processing times have been aided by automation in decision-making.\n",
       "\n",
       "Sources for this information include:\n",
       "\n",
       "1. [Finland Today - Finnish Immigration Service on residence permits](https://finlandtoday.fi/finnish-immigration-service-pilots-automated-decision-making-in-granting-residence-permits-for-students/)\n",
       "2. [Migri - Processing times for student residence permits](https://migri.fi/en/-/students-resident-permit-applications-have-increased-in-numbers-but-processing-times-have-been-shortened-significantly)\n",
       "3. [Helsinki Times - Processing speeds for student residence permits](https://www.helsinkitimes.fi/finland/finland-news/domestic/25559-student-residence-permit-processing-speeds-up-despite-growing-application-numbers.html)"
      ],
      "text/plain": [
       "<IPython.core.display.Markdown object>"
      ]
     },
     "metadata": {},
     "output_type": "display_data"
    },
    {
     "data": {
      "text/markdown": [
       "**You (type 'exit' to end):**"
      ],
      "text/plain": [
       "<IPython.core.display.Markdown object>"
      ]
     },
     "metadata": {},
     "output_type": "display_data"
    },
    {
     "name": "stdout",
     "output_type": "stream",
     "text": [
      " When will the master admissions for 2025 will open?\n"
     ]
    },
    {
     "data": {
      "text/markdown": [
       "Thinking..."
      ],
      "text/plain": [
       "<IPython.core.display.Markdown object>"
      ]
     },
     "metadata": {},
     "output_type": "display_data"
    },
    {
     "data": {
      "text/markdown": [
       "Retrieving updated information..."
      ],
      "text/plain": [
       "<IPython.core.display.Markdown object>"
      ]
     },
     "metadata": {},
     "output_type": "display_data"
    },
    {
     "data": {
      "text/markdown": [
       "Thinking..."
      ],
      "text/plain": [
       "<IPython.core.display.Markdown object>"
      ]
     },
     "metadata": {},
     "output_type": "display_data"
    },
    {
     "data": {
      "text/markdown": [
       "Thinking..."
      ],
      "text/plain": [
       "<IPython.core.display.Markdown object>"
      ]
     },
     "metadata": {},
     "output_type": "display_data"
    },
    {
     "data": {
      "text/markdown": [
       "Thinking..."
      ],
      "text/plain": [
       "<IPython.core.display.Markdown object>"
      ]
     },
     "metadata": {},
     "output_type": "display_data"
    },
    {
     "data": {
      "text/markdown": [
       "Thinking..."
      ],
      "text/plain": [
       "<IPython.core.display.Markdown object>"
      ]
     },
     "metadata": {},
     "output_type": "display_data"
    },
    {
     "data": {
      "text/markdown": [
       "user: What is the current residency period for citizenship?"
      ],
      "text/plain": [
       "<IPython.core.display.Markdown object>"
      ]
     },
     "metadata": {},
     "output_type": "display_data"
    },
    {
     "data": {
      "text/markdown": [
       "assistant: The current residency period required for obtaining Finnish citizenship will be extended from five years to eight years starting on October 1, 2024. This change emphasizes the importance of successful integration into Finnish society as a prerequisite for citizenship.\n",
       "\n",
       "Sources for this information include:\n",
       "\n",
       "1. [Valtioneuvosto - Government proposal for stricter requirements](https://valtioneuvosto.fi/en/-/1410869/government-submits-proposal-to-parliament-on-stricter-requirements-for-acquiring-finnish-citizenship)\n",
       "2. [Migri - Longer period of residence required for citizenship](https://migri.fi/en/-/longer-period-of-residence-required-for-citizenship)\n",
       "3. [YLE News - Finnish citizenship residency requirements](https://yle.fi/a/74-20098223)"
      ],
      "text/plain": [
       "<IPython.core.display.Markdown object>"
      ]
     },
     "metadata": {},
     "output_type": "display_data"
    },
    {
     "data": {
      "text/markdown": [
       "user: What is the average processing time of student residence permit?"
      ],
      "text/plain": [
       "<IPython.core.display.Markdown object>"
      ]
     },
     "metadata": {},
     "output_type": "display_data"
    },
    {
     "data": {
      "text/markdown": [
       "assistant: The average processing time for a student residence permit in Finland is as follows:\n",
       "\n",
       "- For first-time applications, approximately 94% of students receive a decision within 30 days or less.\n",
       "- In 2023, the average processing time was around 38 days.\n",
       "- The Finnish Immigration Service (Migri) aims for an average processing time of no more than one month, especially for workers and students.\n",
       "\n",
       "These improvements in processing times have been aided by automation in decision-making.\n",
       "\n",
       "Sources for this information include:\n",
       "\n",
       "1. [Finland Today - Finnish Immigration Service on residence permits](https://finlandtoday.fi/finnish-immigration-service-pilots-automated-decision-making-in-granting-residence-permits-for-students/)\n",
       "2. [Migri - Processing times for student residence permits](https://migri.fi/en/-/students-resident-permit-applications-have-increased-in-numbers-but-processing-times-have-been-shortened-significantly)\n",
       "3. [Helsinki Times - Processing speeds for student residence permits](https://www.helsinkitimes.fi/finland/finland-news/domestic/25559-student-residence-permit-processing-speeds-up-despite-growing-application-numbers.html)"
      ],
      "text/plain": [
       "<IPython.core.display.Markdown object>"
      ]
     },
     "metadata": {},
     "output_type": "display_data"
    },
    {
     "data": {
      "text/markdown": [
       "user: When will the master admissions for 2025 will open?"
      ],
      "text/plain": [
       "<IPython.core.display.Markdown object>"
      ]
     },
     "metadata": {},
     "output_type": "display_data"
    },
    {
     "data": {
      "text/markdown": [
       "assistant: The application periods for master's programs in Finnish universities for the autumn of 2025 are as follows:\n",
       "\n",
       "1. **Aalto University**: The application period will run from **November 28, 2024** to **December 27, 2024** (3 pm, UTC +2).\n",
       "   - [More information here.](https://www.aalto.fi/en/study-at-aalto/applying-to-masters-programmes)\n",
       "\n",
       "2. **Tampere University**: The application period begins on **December 11, 2024** at 8.00 (UTC+2) and ends on **January 3, 2025** at 15.00 (UTC+2).\n",
       "   - [More information here.](https://www.tuni.fi/en/study-with-us/apply-to-tampere-university/applying-to-university-masters-programmes)\n",
       "\n",
       "3. **University of Oulu**: Although the specific application dates are not explicitly stated for the master's programs starting in 2025, it provides deadlines for confirming study places, typically indicating the admissions process starts earlier in the previous year.\n",
       "   - [More information here.](https://www.oulu.fi/en/apply/how-apply/applying-masters-programmes/deadlines)\n",
       "\n",
       "Make sure to check the specific university's website for the most accurate and detailed information regarding their master's programs."
      ],
      "text/plain": [
       "<IPython.core.display.Markdown object>"
      ]
     },
     "metadata": {},
     "output_type": "display_data"
    },
    {
     "data": {
      "text/markdown": [
       "**You (type 'exit' to end):**"
      ],
      "text/plain": [
       "<IPython.core.display.Markdown object>"
      ]
     },
     "metadata": {},
     "output_type": "display_data"
    },
    {
     "name": "stdout",
     "output_type": "stream",
     "text": [
      " What is the current unemployment allowance?\n"
     ]
    },
    {
     "data": {
      "text/markdown": [
       "Thinking..."
      ],
      "text/plain": [
       "<IPython.core.display.Markdown object>"
      ]
     },
     "metadata": {},
     "output_type": "display_data"
    },
    {
     "data": {
      "text/markdown": [
       "Retrieving updated information..."
      ],
      "text/plain": [
       "<IPython.core.display.Markdown object>"
      ]
     },
     "metadata": {},
     "output_type": "display_data"
    },
    {
     "data": {
      "text/markdown": [
       "Thinking..."
      ],
      "text/plain": [
       "<IPython.core.display.Markdown object>"
      ]
     },
     "metadata": {},
     "output_type": "display_data"
    },
    {
     "data": {
      "text/markdown": [
       "Thinking..."
      ],
      "text/plain": [
       "<IPython.core.display.Markdown object>"
      ]
     },
     "metadata": {},
     "output_type": "display_data"
    },
    {
     "data": {
      "text/markdown": [
       "Thinking..."
      ],
      "text/plain": [
       "<IPython.core.display.Markdown object>"
      ]
     },
     "metadata": {},
     "output_type": "display_data"
    },
    {
     "data": {
      "text/markdown": [
       "Thinking..."
      ],
      "text/plain": [
       "<IPython.core.display.Markdown object>"
      ]
     },
     "metadata": {},
     "output_type": "display_data"
    },
    {
     "data": {
      "text/markdown": [
       "user: What is the current residency period for citizenship?"
      ],
      "text/plain": [
       "<IPython.core.display.Markdown object>"
      ]
     },
     "metadata": {},
     "output_type": "display_data"
    },
    {
     "data": {
      "text/markdown": [
       "assistant: The current residency period required for obtaining Finnish citizenship will be extended from five years to eight years starting on October 1, 2024. This change emphasizes the importance of successful integration into Finnish society as a prerequisite for citizenship.\n",
       "\n",
       "Sources for this information include:\n",
       "\n",
       "1. [Valtioneuvosto - Government proposal for stricter requirements](https://valtioneuvosto.fi/en/-/1410869/government-submits-proposal-to-parliament-on-stricter-requirements-for-acquiring-finnish-citizenship)\n",
       "2. [Migri - Longer period of residence required for citizenship](https://migri.fi/en/-/longer-period-of-residence-required-for-citizenship)\n",
       "3. [YLE News - Finnish citizenship residency requirements](https://yle.fi/a/74-20098223)"
      ],
      "text/plain": [
       "<IPython.core.display.Markdown object>"
      ]
     },
     "metadata": {},
     "output_type": "display_data"
    },
    {
     "data": {
      "text/markdown": [
       "user: What is the average processing time of student residence permit?"
      ],
      "text/plain": [
       "<IPython.core.display.Markdown object>"
      ]
     },
     "metadata": {},
     "output_type": "display_data"
    },
    {
     "data": {
      "text/markdown": [
       "assistant: The average processing time for a student residence permit in Finland is as follows:\n",
       "\n",
       "- For first-time applications, approximately 94% of students receive a decision within 30 days or less.\n",
       "- In 2023, the average processing time was around 38 days.\n",
       "- The Finnish Immigration Service (Migri) aims for an average processing time of no more than one month, especially for workers and students.\n",
       "\n",
       "These improvements in processing times have been aided by automation in decision-making.\n",
       "\n",
       "Sources for this information include:\n",
       "\n",
       "1. [Finland Today - Finnish Immigration Service on residence permits](https://finlandtoday.fi/finnish-immigration-service-pilots-automated-decision-making-in-granting-residence-permits-for-students/)\n",
       "2. [Migri - Processing times for student residence permits](https://migri.fi/en/-/students-resident-permit-applications-have-increased-in-numbers-but-processing-times-have-been-shortened-significantly)\n",
       "3. [Helsinki Times - Processing speeds for student residence permits](https://www.helsinkitimes.fi/finland/finland-news/domestic/25559-student-residence-permit-processing-speeds-up-despite-growing-application-numbers.html)"
      ],
      "text/plain": [
       "<IPython.core.display.Markdown object>"
      ]
     },
     "metadata": {},
     "output_type": "display_data"
    },
    {
     "data": {
      "text/markdown": [
       "user: When will the master admissions for 2025 will open?"
      ],
      "text/plain": [
       "<IPython.core.display.Markdown object>"
      ]
     },
     "metadata": {},
     "output_type": "display_data"
    },
    {
     "data": {
      "text/markdown": [
       "assistant: The application periods for master's programs in Finnish universities for the autumn of 2025 are as follows:\n",
       "\n",
       "1. **Aalto University**: The application period will run from **November 28, 2024** to **December 27, 2024** (3 pm, UTC +2).\n",
       "   - [More information here.](https://www.aalto.fi/en/study-at-aalto/applying-to-masters-programmes)\n",
       "\n",
       "2. **Tampere University**: The application period begins on **December 11, 2024** at 8.00 (UTC+2) and ends on **January 3, 2025** at 15.00 (UTC+2).\n",
       "   - [More information here.](https://www.tuni.fi/en/study-with-us/apply-to-tampere-university/applying-to-university-masters-programmes)\n",
       "\n",
       "3. **University of Oulu**: Although the specific application dates are not explicitly stated for the master's programs starting in 2025, it provides deadlines for confirming study places, typically indicating the admissions process starts earlier in the previous year.\n",
       "   - [More information here.](https://www.oulu.fi/en/apply/how-apply/applying-masters-programmes/deadlines)\n",
       "\n",
       "Make sure to check the specific university's website for the most accurate and detailed information regarding their master's programs."
      ],
      "text/plain": [
       "<IPython.core.display.Markdown object>"
      ]
     },
     "metadata": {},
     "output_type": "display_data"
    },
    {
     "data": {
      "text/markdown": [
       "user: What is the current unemployment allowance?"
      ],
      "text/plain": [
       "<IPython.core.display.Markdown object>"
      ]
     },
     "metadata": {},
     "output_type": "display_data"
    },
    {
     "data": {
      "text/markdown": [
       "assistant: As of 2024, the basic unemployment allowance in Finland is set at **€37.21 per day**. This amount is not expected to change through index adjustments during the period from 2024 to 2027. \n",
       "\n",
       "It's also worth noting that significant reforms to unemployment benefits will be implemented throughout 2024, including modifications to eligibility requirements and waiting periods for receiving these benefits.\n",
       "\n",
       "For more detailed information, you can refer to the following sources:\n",
       "\n",
       "1. [Kela - Changes to benefits](https://www.kela.fi/changes-to-benefits)\n",
       "2. [Helsinki Times - Changes to unemployment benefits for 2024](https://www.helsinkitimes.fi/finland/finland-news/domestic/24655-finnish-parliament-approves-significant-changes-to-unemployment-benefits-for-2024.html)\n",
       "3. [Kela - Changes to Kela unemployment benefits in 2024](https://www.kela.fi/news/5896089-changes-to-kela-unemployment-benefits-in-2024)"
      ],
      "text/plain": [
       "<IPython.core.display.Markdown object>"
      ]
     },
     "metadata": {},
     "output_type": "display_data"
    },
    {
     "data": {
      "text/markdown": [
       "**You (type 'exit' to end):**"
      ],
      "text/plain": [
       "<IPython.core.display.Markdown object>"
      ]
     },
     "metadata": {},
     "output_type": "display_data"
    },
    {
     "name": "stdout",
     "output_type": "stream",
     "text": [
      " During the entire continuous period of residence, how much time the applicant may stay abroad.\n"
     ]
    },
    {
     "data": {
      "text/markdown": [
       "Thinking..."
      ],
      "text/plain": [
       "<IPython.core.display.Markdown object>"
      ]
     },
     "metadata": {},
     "output_type": "display_data"
    },
    {
     "data": {
      "text/markdown": [
       "Thinking..."
      ],
      "text/plain": [
       "<IPython.core.display.Markdown object>"
      ]
     },
     "metadata": {},
     "output_type": "display_data"
    },
    {
     "data": {
      "text/markdown": [
       "Retrieving updated information..."
      ],
      "text/plain": [
       "<IPython.core.display.Markdown object>"
      ]
     },
     "metadata": {},
     "output_type": "display_data"
    },
    {
     "data": {
      "text/markdown": [
       "Thinking..."
      ],
      "text/plain": [
       "<IPython.core.display.Markdown object>"
      ]
     },
     "metadata": {},
     "output_type": "display_data"
    },
    {
     "data": {
      "text/markdown": [
       "Thinking..."
      ],
      "text/plain": [
       "<IPython.core.display.Markdown object>"
      ]
     },
     "metadata": {},
     "output_type": "display_data"
    },
    {
     "data": {
      "text/markdown": [
       "Thinking..."
      ],
      "text/plain": [
       "<IPython.core.display.Markdown object>"
      ]
     },
     "metadata": {},
     "output_type": "display_data"
    },
    {
     "data": {
      "text/markdown": [
       "user: What is the current residency period for citizenship?"
      ],
      "text/plain": [
       "<IPython.core.display.Markdown object>"
      ]
     },
     "metadata": {},
     "output_type": "display_data"
    },
    {
     "data": {
      "text/markdown": [
       "assistant: The current residency period required for obtaining Finnish citizenship will be extended from five years to eight years starting on October 1, 2024. This change emphasizes the importance of successful integration into Finnish society as a prerequisite for citizenship.\n",
       "\n",
       "Sources for this information include:\n",
       "\n",
       "1. [Valtioneuvosto - Government proposal for stricter requirements](https://valtioneuvosto.fi/en/-/1410869/government-submits-proposal-to-parliament-on-stricter-requirements-for-acquiring-finnish-citizenship)\n",
       "2. [Migri - Longer period of residence required for citizenship](https://migri.fi/en/-/longer-period-of-residence-required-for-citizenship)\n",
       "3. [YLE News - Finnish citizenship residency requirements](https://yle.fi/a/74-20098223)"
      ],
      "text/plain": [
       "<IPython.core.display.Markdown object>"
      ]
     },
     "metadata": {},
     "output_type": "display_data"
    },
    {
     "data": {
      "text/markdown": [
       "user: What is the average processing time of student residence permit?"
      ],
      "text/plain": [
       "<IPython.core.display.Markdown object>"
      ]
     },
     "metadata": {},
     "output_type": "display_data"
    },
    {
     "data": {
      "text/markdown": [
       "assistant: The average processing time for a student residence permit in Finland is as follows:\n",
       "\n",
       "- For first-time applications, approximately 94% of students receive a decision within 30 days or less.\n",
       "- In 2023, the average processing time was around 38 days.\n",
       "- The Finnish Immigration Service (Migri) aims for an average processing time of no more than one month, especially for workers and students.\n",
       "\n",
       "These improvements in processing times have been aided by automation in decision-making.\n",
       "\n",
       "Sources for this information include:\n",
       "\n",
       "1. [Finland Today - Finnish Immigration Service on residence permits](https://finlandtoday.fi/finnish-immigration-service-pilots-automated-decision-making-in-granting-residence-permits-for-students/)\n",
       "2. [Migri - Processing times for student residence permits](https://migri.fi/en/-/students-resident-permit-applications-have-increased-in-numbers-but-processing-times-have-been-shortened-significantly)\n",
       "3. [Helsinki Times - Processing speeds for student residence permits](https://www.helsinkitimes.fi/finland/finland-news/domestic/25559-student-residence-permit-processing-speeds-up-despite-growing-application-numbers.html)"
      ],
      "text/plain": [
       "<IPython.core.display.Markdown object>"
      ]
     },
     "metadata": {},
     "output_type": "display_data"
    },
    {
     "data": {
      "text/markdown": [
       "user: When will the master admissions for 2025 will open?"
      ],
      "text/plain": [
       "<IPython.core.display.Markdown object>"
      ]
     },
     "metadata": {},
     "output_type": "display_data"
    },
    {
     "data": {
      "text/markdown": [
       "assistant: The application periods for master's programs in Finnish universities for the autumn of 2025 are as follows:\n",
       "\n",
       "1. **Aalto University**: The application period will run from **November 28, 2024** to **December 27, 2024** (3 pm, UTC +2).\n",
       "   - [More information here.](https://www.aalto.fi/en/study-at-aalto/applying-to-masters-programmes)\n",
       "\n",
       "2. **Tampere University**: The application period begins on **December 11, 2024** at 8.00 (UTC+2) and ends on **January 3, 2025** at 15.00 (UTC+2).\n",
       "   - [More information here.](https://www.tuni.fi/en/study-with-us/apply-to-tampere-university/applying-to-university-masters-programmes)\n",
       "\n",
       "3. **University of Oulu**: Although the specific application dates are not explicitly stated for the master's programs starting in 2025, it provides deadlines for confirming study places, typically indicating the admissions process starts earlier in the previous year.\n",
       "   - [More information here.](https://www.oulu.fi/en/apply/how-apply/applying-masters-programmes/deadlines)\n",
       "\n",
       "Make sure to check the specific university's website for the most accurate and detailed information regarding their master's programs."
      ],
      "text/plain": [
       "<IPython.core.display.Markdown object>"
      ]
     },
     "metadata": {},
     "output_type": "display_data"
    },
    {
     "data": {
      "text/markdown": [
       "user: What is the current unemployment allowance?"
      ],
      "text/plain": [
       "<IPython.core.display.Markdown object>"
      ]
     },
     "metadata": {},
     "output_type": "display_data"
    },
    {
     "data": {
      "text/markdown": [
       "assistant: As of 2024, the basic unemployment allowance in Finland is set at **€37.21 per day**. This amount is not expected to change through index adjustments during the period from 2024 to 2027. \n",
       "\n",
       "It's also worth noting that significant reforms to unemployment benefits will be implemented throughout 2024, including modifications to eligibility requirements and waiting periods for receiving these benefits.\n",
       "\n",
       "For more detailed information, you can refer to the following sources:\n",
       "\n",
       "1. [Kela - Changes to benefits](https://www.kela.fi/changes-to-benefits)\n",
       "2. [Helsinki Times - Changes to unemployment benefits for 2024](https://www.helsinkitimes.fi/finland/finland-news/domestic/24655-finnish-parliament-approves-significant-changes-to-unemployment-benefits-for-2024.html)\n",
       "3. [Kela - Changes to Kela unemployment benefits in 2024](https://www.kela.fi/news/5896089-changes-to-kela-unemployment-benefits-in-2024)"
      ],
      "text/plain": [
       "<IPython.core.display.Markdown object>"
      ]
     },
     "metadata": {},
     "output_type": "display_data"
    },
    {
     "data": {
      "text/markdown": [
       "user: During the entire continuous period of residence, how much time the applicant may stay abroad."
      ],
      "text/plain": [
       "<IPython.core.display.Markdown object>"
      ]
     },
     "metadata": {},
     "output_type": "display_data"
    },
    {
     "data": {
      "text/markdown": [
       "assistant: During the entire continuous period of residence required for Finnish citizenship, an applicant may stay abroad for a total of **one year**. However, no more than **three months** of this period can be taken during the **year preceding** naturalization. This regulation aims to ensure that applicants are genuinely residing in Finland.\n",
       "\n",
       "Sources for this information include:\n",
       "\n",
       "1. [Valtioneuvosto - Stricter requirements for acquiring Finnish citizenship](https://valtioneuvosto.fi/en/-/1410869/stricter-requirements-for-acquiring-finnish-citizenship-the-required-period-of-residence-to-be-extended)\n",
       "2. [Migri - Changes to residence period for citizenship](https://migri.fi/-/kansalaisuushakemusten-vaadittu-asumisaika-pitenee?languageId=en_US)"
      ],
      "text/plain": [
       "<IPython.core.display.Markdown object>"
      ]
     },
     "metadata": {},
     "output_type": "display_data"
    },
    {
     "data": {
      "text/markdown": [
       "**You (type 'exit' to end):**"
      ],
      "text/plain": [
       "<IPython.core.display.Markdown object>"
      ]
     },
     "metadata": {},
     "output_type": "display_data"
    },
    {
     "name": "stdout",
     "output_type": "stream",
     "text": [
      " What will be the change in the tuition fees from 2024?\n"
     ]
    },
    {
     "data": {
      "text/markdown": [
       "Thinking..."
      ],
      "text/plain": [
       "<IPython.core.display.Markdown object>"
      ]
     },
     "metadata": {},
     "output_type": "display_data"
    },
    {
     "data": {
      "text/markdown": [
       "Retrieving updated information..."
      ],
      "text/plain": [
       "<IPython.core.display.Markdown object>"
      ]
     },
     "metadata": {},
     "output_type": "display_data"
    },
    {
     "data": {
      "text/markdown": [
       "Thinking..."
      ],
      "text/plain": [
       "<IPython.core.display.Markdown object>"
      ]
     },
     "metadata": {},
     "output_type": "display_data"
    },
    {
     "data": {
      "text/markdown": [
       "Thinking..."
      ],
      "text/plain": [
       "<IPython.core.display.Markdown object>"
      ]
     },
     "metadata": {},
     "output_type": "display_data"
    },
    {
     "data": {
      "text/markdown": [
       "Thinking..."
      ],
      "text/plain": [
       "<IPython.core.display.Markdown object>"
      ]
     },
     "metadata": {},
     "output_type": "display_data"
    },
    {
     "data": {
      "text/markdown": [
       "Thinking..."
      ],
      "text/plain": [
       "<IPython.core.display.Markdown object>"
      ]
     },
     "metadata": {},
     "output_type": "display_data"
    },
    {
     "data": {
      "text/markdown": [
       "Thinking..."
      ],
      "text/plain": [
       "<IPython.core.display.Markdown object>"
      ]
     },
     "metadata": {},
     "output_type": "display_data"
    },
    {
     "data": {
      "text/markdown": [
       "user: What is the current residency period for citizenship?"
      ],
      "text/plain": [
       "<IPython.core.display.Markdown object>"
      ]
     },
     "metadata": {},
     "output_type": "display_data"
    },
    {
     "data": {
      "text/markdown": [
       "assistant: The current residency period required for obtaining Finnish citizenship will be extended from five years to eight years starting on October 1, 2024. This change emphasizes the importance of successful integration into Finnish society as a prerequisite for citizenship.\n",
       "\n",
       "Sources for this information include:\n",
       "\n",
       "1. [Valtioneuvosto - Government proposal for stricter requirements](https://valtioneuvosto.fi/en/-/1410869/government-submits-proposal-to-parliament-on-stricter-requirements-for-acquiring-finnish-citizenship)\n",
       "2. [Migri - Longer period of residence required for citizenship](https://migri.fi/en/-/longer-period-of-residence-required-for-citizenship)\n",
       "3. [YLE News - Finnish citizenship residency requirements](https://yle.fi/a/74-20098223)"
      ],
      "text/plain": [
       "<IPython.core.display.Markdown object>"
      ]
     },
     "metadata": {},
     "output_type": "display_data"
    },
    {
     "data": {
      "text/markdown": [
       "user: What is the average processing time of student residence permit?"
      ],
      "text/plain": [
       "<IPython.core.display.Markdown object>"
      ]
     },
     "metadata": {},
     "output_type": "display_data"
    },
    {
     "data": {
      "text/markdown": [
       "assistant: The average processing time for a student residence permit in Finland is as follows:\n",
       "\n",
       "- For first-time applications, approximately 94% of students receive a decision within 30 days or less.\n",
       "- In 2023, the average processing time was around 38 days.\n",
       "- The Finnish Immigration Service (Migri) aims for an average processing time of no more than one month, especially for workers and students.\n",
       "\n",
       "These improvements in processing times have been aided by automation in decision-making.\n",
       "\n",
       "Sources for this information include:\n",
       "\n",
       "1. [Finland Today - Finnish Immigration Service on residence permits](https://finlandtoday.fi/finnish-immigration-service-pilots-automated-decision-making-in-granting-residence-permits-for-students/)\n",
       "2. [Migri - Processing times for student residence permits](https://migri.fi/en/-/students-resident-permit-applications-have-increased-in-numbers-but-processing-times-have-been-shortened-significantly)\n",
       "3. [Helsinki Times - Processing speeds for student residence permits](https://www.helsinkitimes.fi/finland/finland-news/domestic/25559-student-residence-permit-processing-speeds-up-despite-growing-application-numbers.html)"
      ],
      "text/plain": [
       "<IPython.core.display.Markdown object>"
      ]
     },
     "metadata": {},
     "output_type": "display_data"
    },
    {
     "data": {
      "text/markdown": [
       "user: When will the master admissions for 2025 will open?"
      ],
      "text/plain": [
       "<IPython.core.display.Markdown object>"
      ]
     },
     "metadata": {},
     "output_type": "display_data"
    },
    {
     "data": {
      "text/markdown": [
       "assistant: The application periods for master's programs in Finnish universities for the autumn of 2025 are as follows:\n",
       "\n",
       "1. **Aalto University**: The application period will run from **November 28, 2024** to **December 27, 2024** (3 pm, UTC +2).\n",
       "   - [More information here.](https://www.aalto.fi/en/study-at-aalto/applying-to-masters-programmes)\n",
       "\n",
       "2. **Tampere University**: The application period begins on **December 11, 2024** at 8.00 (UTC+2) and ends on **January 3, 2025** at 15.00 (UTC+2).\n",
       "   - [More information here.](https://www.tuni.fi/en/study-with-us/apply-to-tampere-university/applying-to-university-masters-programmes)\n",
       "\n",
       "3. **University of Oulu**: Although the specific application dates are not explicitly stated for the master's programs starting in 2025, it provides deadlines for confirming study places, typically indicating the admissions process starts earlier in the previous year.\n",
       "   - [More information here.](https://www.oulu.fi/en/apply/how-apply/applying-masters-programmes/deadlines)\n",
       "\n",
       "Make sure to check the specific university's website for the most accurate and detailed information regarding their master's programs."
      ],
      "text/plain": [
       "<IPython.core.display.Markdown object>"
      ]
     },
     "metadata": {},
     "output_type": "display_data"
    },
    {
     "data": {
      "text/markdown": [
       "user: What is the current unemployment allowance?"
      ],
      "text/plain": [
       "<IPython.core.display.Markdown object>"
      ]
     },
     "metadata": {},
     "output_type": "display_data"
    },
    {
     "data": {
      "text/markdown": [
       "assistant: As of 2024, the basic unemployment allowance in Finland is set at **€37.21 per day**. This amount is not expected to change through index adjustments during the period from 2024 to 2027. \n",
       "\n",
       "It's also worth noting that significant reforms to unemployment benefits will be implemented throughout 2024, including modifications to eligibility requirements and waiting periods for receiving these benefits.\n",
       "\n",
       "For more detailed information, you can refer to the following sources:\n",
       "\n",
       "1. [Kela - Changes to benefits](https://www.kela.fi/changes-to-benefits)\n",
       "2. [Helsinki Times - Changes to unemployment benefits for 2024](https://www.helsinkitimes.fi/finland/finland-news/domestic/24655-finnish-parliament-approves-significant-changes-to-unemployment-benefits-for-2024.html)\n",
       "3. [Kela - Changes to Kela unemployment benefits in 2024](https://www.kela.fi/news/5896089-changes-to-kela-unemployment-benefits-in-2024)"
      ],
      "text/plain": [
       "<IPython.core.display.Markdown object>"
      ]
     },
     "metadata": {},
     "output_type": "display_data"
    },
    {
     "data": {
      "text/markdown": [
       "user: During the entire continuous period of residence, how much time the applicant may stay abroad."
      ],
      "text/plain": [
       "<IPython.core.display.Markdown object>"
      ]
     },
     "metadata": {},
     "output_type": "display_data"
    },
    {
     "data": {
      "text/markdown": [
       "assistant: During the entire continuous period of residence required for Finnish citizenship, an applicant may stay abroad for a total of **one year**. However, no more than **three months** of this period can be taken during the **year preceding** naturalization. This regulation aims to ensure that applicants are genuinely residing in Finland.\n",
       "\n",
       "Sources for this information include:\n",
       "\n",
       "1. [Valtioneuvosto - Stricter requirements for acquiring Finnish citizenship](https://valtioneuvosto.fi/en/-/1410869/stricter-requirements-for-acquiring-finnish-citizenship-the-required-period-of-residence-to-be-extended)\n",
       "2. [Migri - Changes to residence period for citizenship](https://migri.fi/-/kansalaisuushakemusten-vaadittu-asumisaika-pitenee?languageId=en_US)"
      ],
      "text/plain": [
       "<IPython.core.display.Markdown object>"
      ]
     },
     "metadata": {},
     "output_type": "display_data"
    },
    {
     "data": {
      "text/markdown": [
       "user: What will be the change in the tuition fees from 2024?"
      ],
      "text/plain": [
       "<IPython.core.display.Markdown object>"
      ]
     },
     "metadata": {},
     "output_type": "display_data"
    },
    {
     "data": {
      "text/markdown": [
       "assistant: Starting in 2024, changes to tuition fees for non-European Union (EU) and non-European Economic Area (EEA) students in Finland are expected to come into effect. The Finnish government plans to implement full-cost tuition fees that cover the complete expenses associated with students' education. This reform is part of a broader strategy to enhance the funding of Finnish universities.\n",
       "\n",
       "Key points regarding the changes include:\n",
       "\n",
       "- Tuition fees will need to fully cover the costs of completing a degree for non-EU/EEA students.\n",
       "- While specific fee amounts haven't been detailed in the sources, it's stated that existing tuition fees already cover a significant portion of these costs in institutions like the University of Helsinki.\n",
       "- Additionally, the number of scholarships available for international students may be reduced as a result of these changes.\n",
       "\n",
       "For more details, you can check the following sources:\n",
       "\n",
       "1. [University World News - Proposal for full-cost tuition fees](https://www.universityworldnews.com/post.php?story=20240529081922658)\n",
       "2. [YLE - Law changes on tuition fees for non-EU students](https://yle.fi/a/74-20089083)\n",
       "3. [Daily Finland - Government moves to increase tuition fees](https://www.dailyfinland.fi/education/33771/Govt-moves-to-increase-tuition-fees-for-non-EU-non-EEA-students)"
      ],
      "text/plain": [
       "<IPython.core.display.Markdown object>"
      ]
     },
     "metadata": {},
     "output_type": "display_data"
    },
    {
     "data": {
      "text/markdown": [
       "**You (type 'exit' to end):**"
      ],
      "text/plain": [
       "<IPython.core.display.Markdown object>"
      ]
     },
     "metadata": {},
     "output_type": "display_data"
    }
   ],
   "source": [
    "\"\"\"Create a thread for the assistant and maintain chat.\"\"\"\n",
    "import os\n",
    "import json\n",
    "import time\n",
    "from openai import OpenAI\n",
    "from tavily import TavilyClient\n",
    "from IPython.display import display, Markdown\n",
    "\n",
    "# Function to perform a Tavily search\n",
    "def tavily_search(query):\n",
    "    display(Markdown(\"Retrieving updated information...\"))  # Status message when using TavilyClient\n",
    "    search_result = tavily_client.get_search_context(query, search_depth=\"advanced\", max_tokens=8000)\n",
    "    return search_result\n",
    "\n",
    "# Function to wait for a run to complete\n",
    "def wait_for_run_completion(thread_id, run_id):\n",
    "    while True:\n",
    "        display(Markdown(\"Thinking...\"))\n",
    "        time.sleep(1)\n",
    "        run = client.beta.threads.runs.retrieve(thread_id=thread_id, run_id=run_id)\n",
    "        if run.status in ['completed', 'failed', 'requires_action']:\n",
    "            return run\n",
    "\n",
    "# Function to handle tool output submission\n",
    "def submit_tool_outputs(thread_id, run_id, tools_to_call):\n",
    "    tool_output_array = []\n",
    "    for tool in tools_to_call:\n",
    "        output = None\n",
    "        tool_call_id = tool.id\n",
    "        function_name = tool.function.name\n",
    "        function_args = tool.function.arguments\n",
    "\n",
    "        if function_name == \"tavily_search\":\n",
    "            output = tavily_search(query=json.loads(function_args)[\"query\"])\n",
    "\n",
    "        if output:\n",
    "            tool_output_array.append({\"tool_call_id\": tool_call_id, \"output\": output})\n",
    "\n",
    "    return client.beta.threads.runs.submit_tool_outputs(\n",
    "        thread_id=thread_id,\n",
    "        run_id=run_id,\n",
    "        tool_outputs=tool_output_array\n",
    "    )\n",
    "\n",
    "# Function to print messages from a thread, ensuring they appear in the correct order\n",
    "def print_messages_from_thread(thread_id):\n",
    "    messages = client.beta.threads.messages.list(thread_id=thread_id)\n",
    "    sorted_messages = sorted(messages, key=lambda msg: msg.created_at)  # Sort by creation time\n",
    "    for msg in sorted_messages:\n",
    "        display(Markdown(f\"{msg.role}: {msg.content[0].text.value}\"))\n",
    "\n",
    "# Create a thread\n",
    "thread = client.beta.threads.create()\n",
    "print(f\"Thread: {thread}\")\n",
    "\n",
    "\n",
    "# Ongoing conversation loop\n",
    "while True:\n",
    "    display(Markdown(\"**You (type 'exit' to end):**\"))\n",
    "    user_input = input()\n",
    "    if user_input.lower() == 'exit':\n",
    "        break\n",
    "\n",
    "    # Create a message\n",
    "    message = client.beta.threads.messages.create(\n",
    "        thread_id=thread.id,\n",
    "        role=\"user\",\n",
    "        content=user_input,\n",
    "    )\n",
    "\n",
    "    # Create a run\n",
    "    run = client.beta.threads.runs.create(\n",
    "        thread_id=thread.id,\n",
    "        assistant_id=assistant_id,\n",
    "    )\n",
    "\n",
    "    # Wait for run to complete\n",
    "    run = wait_for_run_completion(thread.id, run.id)\n",
    "\n",
    "    if run.status == 'failed':\n",
    "        print(run.error)\n",
    "        continue\n",
    "    elif run.status == 'requires_action':\n",
    "        run = submit_tool_outputs(thread.id, run.id, run.required_action.submit_tool_outputs.tool_calls)\n",
    "        run = wait_for_run_completion(thread.id, run.id)\n",
    "\n",
    "    # Print messages from the thread\n",
    "    print_messages_from_thread(thread.id)\n"
   ]
  },
  {
   "cell_type": "code",
   "execution_count": null,
   "id": "62f8017f-be89-4f8d-a1d5-4dd4740c54cd",
   "metadata": {},
   "outputs": [],
   "source": []
  }
 ],
 "metadata": {
  "kernelspec": {
   "display_name": "Python (my_env)",
   "language": "python",
   "name": "my_env"
  },
  "language_info": {
   "codemirror_mode": {
    "name": "ipython",
    "version": 3
   },
   "file_extension": ".py",
   "mimetype": "text/x-python",
   "name": "python",
   "nbconvert_exporter": "python",
   "pygments_lexer": "ipython3",
   "version": "3.12.3"
  }
 },
 "nbformat": 4,
 "nbformat_minor": 5
}
