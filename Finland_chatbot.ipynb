{
 "cells": [
  {
   "cell_type": "code",
   "execution_count": 21,
   "id": "ac5a292d-e86b-419f-a92a-52d3ec1f386c",
   "metadata": {},
   "outputs": [
    {
     "name": "stdout",
     "output_type": "stream",
     "text": [
      "Assistant Created. Assistant ID: asst_6NLqb2i11wW1JW3nGEnV0tqd\n"
     ]
    }
   ],
   "source": [
    "# pip install tavily-python\n",
    "\n",
    "import os\n",
    "import json\n",
    "import time\n",
    "from openai import OpenAI\n",
    "from tavily import TavilyClient\n",
    "from IPython.display import display, Markdown\n",
    "\n",
    "# Initialize clients with API keys\n",
    "client = OpenAI(api_key=os.environ[\"OPENAI_API_KEY\"])\n",
    "tavily_client = TavilyClient(api_key=os.environ[\"TAVILY_API_KEY\"])\n",
    "\n",
    "\n",
    "prompt = \"\"\"You are an immigration expert having expertise in Finnish immigration and integration. \n",
    "Your goal is to provide updated information from the internet using Tavily search API function. \n",
    "If no relevant information is found on the internet, utilize your own knowledge\n",
    "to answer the question. In either case, acknowledge the source of the information. \n",
    "If the information is not present in your own knowledge, simply say that you cannot provide the requested information.\n",
    "In case of an internet search, Please include relevant url sources at the end of your answers with the heading \"References:\".\n",
    "Analyze the query to determine whether the question requires internet access to find the updated information. \n",
    "Internet access may be required for queries asking for information on rapidly changing policies, current statistics, or other recent facts (e.g., current tax rate, tution fees, visa processing fee, residency period, etc.\n",
    "It is important to note that you only have to answer queries related to Finland in general (e.g, location, history, economy, etc.), Finnish immigration,\n",
    "Finnish culture, Finnish lifestyle, or integration in Finland. For all other non-related queries, simply respond by giving an appropriate message\n",
    "\"\"\"\n",
    "\n",
    "# Create an assistant\n",
    "assistant = client.beta.assistants.create(\n",
    "    instructions=prompt,\n",
    "    model=\"gpt-4o-mini\",\n",
    "    tools=[{\n",
    "        \"type\": \"function\",\n",
    "        \"function\": {\n",
    "            \"name\": \"tavily_search\",\n",
    "            \"description\": \"Get information on recent events from the web.\",\n",
    "            \"parameters\": {\n",
    "                \"type\": \"object\",\n",
    "                \"properties\": {\n",
    "                    \"query\": {\"type\": \"string\", \"description\": \"The search query to use. For example: 'What is the average processing time of residence permit?'\"},\n",
    "                },\n",
    "                \"required\": [\"query\"]\n",
    "            }\n",
    "        }\n",
    "    }]\n",
    ")\n",
    "assistant_id = assistant.id\n",
    "print(f\"Assistant Created. Assistant ID: {assistant_id}\")"
   ]
  },
  {
   "cell_type": "code",
   "execution_count": 28,
   "id": "62f8017f-be89-4f8d-a1d5-4dd4740c54cd",
   "metadata": {},
   "outputs": [
    {
     "name": "stdout",
     "output_type": "stream",
     "text": [
      "Thread: Thread(id='thread_1Q2GURzRIRzp8BR5AvA5duuU', created_at=1727955884, metadata={}, object='thread', tool_resources=ToolResources(code_interpreter=None, file_search=None))\n"
     ]
    },
    {
     "data": {
      "text/markdown": [
       "**You (type 'exit' to end):**"
      ],
      "text/plain": [
       "<IPython.core.display.Markdown object>"
      ]
     },
     "metadata": {},
     "output_type": "display_data"
    },
    {
     "name": "stdin",
     "output_type": "stream",
     "text": [
      "   What is the current residency period for citizenship?\n"
     ]
    },
    {
     "data": {
      "text/markdown": [
       "Thinking..."
      ],
      "text/plain": [
       "<IPython.core.display.Markdown object>"
      ]
     },
     "metadata": {},
     "output_type": "display_data"
    },
    {
     "data": {
      "text/markdown": [
       "Retrieving updated information..."
      ],
      "text/plain": [
       "<IPython.core.display.Markdown object>"
      ]
     },
     "metadata": {},
     "output_type": "display_data"
    },
    {
     "data": {
      "text/markdown": [
       "Thinking..."
      ],
      "text/plain": [
       "<IPython.core.display.Markdown object>"
      ]
     },
     "metadata": {},
     "output_type": "display_data"
    },
    {
     "data": {
      "text/markdown": [
       "Thinking..."
      ],
      "text/plain": [
       "<IPython.core.display.Markdown object>"
      ]
     },
     "metadata": {},
     "output_type": "display_data"
    },
    {
     "data": {
      "text/markdown": [
       "Thinking..."
      ],
      "text/plain": [
       "<IPython.core.display.Markdown object>"
      ]
     },
     "metadata": {},
     "output_type": "display_data"
    },
    {
     "data": {
      "text/markdown": [
       "Thinking..."
      ],
      "text/plain": [
       "<IPython.core.display.Markdown object>"
      ]
     },
     "metadata": {},
     "output_type": "display_data"
    },
    {
     "data": {
      "text/markdown": [
       "user:   What is the current residency period for citizenship?"
      ],
      "text/plain": [
       "<IPython.core.display.Markdown object>"
      ]
     },
     "metadata": {},
     "output_type": "display_data"
    },
    {
     "data": {
      "text/markdown": [
       "assistant: As of October 1, 2024, the residency period required to apply for Finnish citizenship will be extended from the current five years to eight years. This change aims to promote successful integration of immigrants into Finnish society. Importantly, only time spent on a residence permit will count towards this residency period, and applicants may not be absent from Finland for more than one year total during the entire residency period, with specific restrictions on the time spent abroad in the year preceding naturalization.\n",
       "\n",
       "References:\n",
       "- [Yle News](https://yle.fi/a/74-20098223)\n",
       "- [Helsinki Times](https://www.helsinkitimes.fi/finland/finland-news/domestic/25657-finland-extends-residency-requirement-for-citizenship-to-emphasize-integration.html)\n",
       "- [Valtioneuvosto](https://valtioneuvosto.fi/en/-/1410869/stricter-requirements-for-acquiring-finnish-citizenship-the-required-period-of-residence-to-be-extended)\n",
       "- [Valtioneuvosto](https://valtioneuvosto.fi/en/-/5202425/longer-period-of-residence-required-for-citizenship)"
      ],
      "text/plain": [
       "<IPython.core.display.Markdown object>"
      ]
     },
     "metadata": {},
     "output_type": "display_data"
    },
    {
     "data": {
      "text/markdown": [
       "**You (type 'exit' to end):**"
      ],
      "text/plain": [
       "<IPython.core.display.Markdown object>"
      ]
     },
     "metadata": {},
     "output_type": "display_data"
    },
    {
     "name": "stdin",
     "output_type": "stream",
     "text": [
      "   What is the average processing time of student residence permit?\n"
     ]
    },
    {
     "data": {
      "text/markdown": [
       "Thinking..."
      ],
      "text/plain": [
       "<IPython.core.display.Markdown object>"
      ]
     },
     "metadata": {},
     "output_type": "display_data"
    },
    {
     "data": {
      "text/markdown": [
       "Retrieving updated information..."
      ],
      "text/plain": [
       "<IPython.core.display.Markdown object>"
      ]
     },
     "metadata": {},
     "output_type": "display_data"
    },
    {
     "data": {
      "text/markdown": [
       "Thinking..."
      ],
      "text/plain": [
       "<IPython.core.display.Markdown object>"
      ]
     },
     "metadata": {},
     "output_type": "display_data"
    },
    {
     "data": {
      "text/markdown": [
       "Thinking..."
      ],
      "text/plain": [
       "<IPython.core.display.Markdown object>"
      ]
     },
     "metadata": {},
     "output_type": "display_data"
    },
    {
     "data": {
      "text/markdown": [
       "Thinking..."
      ],
      "text/plain": [
       "<IPython.core.display.Markdown object>"
      ]
     },
     "metadata": {},
     "output_type": "display_data"
    },
    {
     "data": {
      "text/markdown": [
       "Thinking..."
      ],
      "text/plain": [
       "<IPython.core.display.Markdown object>"
      ]
     },
     "metadata": {},
     "output_type": "display_data"
    },
    {
     "data": {
      "text/markdown": [
       "Thinking..."
      ],
      "text/plain": [
       "<IPython.core.display.Markdown object>"
      ]
     },
     "metadata": {},
     "output_type": "display_data"
    },
    {
     "data": {
      "text/markdown": [
       "Thinking..."
      ],
      "text/plain": [
       "<IPython.core.display.Markdown object>"
      ]
     },
     "metadata": {},
     "output_type": "display_data"
    },
    {
     "data": {
      "text/markdown": [
       "user:   What is the average processing time of student residence permit?"
      ],
      "text/plain": [
       "<IPython.core.display.Markdown object>"
      ]
     },
     "metadata": {},
     "output_type": "display_data"
    },
    {
     "data": {
      "text/markdown": [
       "assistant: As of 2023, the average processing time for a Finnish student residence permit is approximately **38 days**. Moreover, about **94%** of first-time applicants receive a decision within **30 days or less**. The Finnish Immigration Service (Migri) has implemented automated decision-making for certain student applications, which has significantly improved processing times despite an increase in applications.\n",
       "\n",
       "References:\n",
       "- [Schengen News](https://schengen.news/finland-processing-student-residence-permits-within-30-days-despite-growing-applications/)\n",
       "- [Valtioneuvosto](https://valtioneuvosto.fi/en/-//5202425/students-resident-permit-applications-have-increased-in-numbers-but-processing-times-have-been-shortened-significantly)\n",
       "- [Daily Finland](https://www.dailyfinland.fi/education/39212/Number-of-students-residence-permit-applications-on-rise)\n",
       "- [Finland Today](https://finlandtoday.fi/finnish-immigration-service-pilots-automated-decision-making-in-granting-residence-permits-for-students/)\n",
       "- [Helsinki Times](https://www.helsinkitimes.fi/finland/finland-news/domestic/25559-student-residence-permit-processing-speeds-up-despite-growing-application-numbers.html)"
      ],
      "text/plain": [
       "<IPython.core.display.Markdown object>"
      ]
     },
     "metadata": {},
     "output_type": "display_data"
    },
    {
     "data": {
      "text/markdown": [
       "**You (type 'exit' to end):**"
      ],
      "text/plain": [
       "<IPython.core.display.Markdown object>"
      ]
     },
     "metadata": {},
     "output_type": "display_data"
    },
    {
     "name": "stdin",
     "output_type": "stream",
     "text": [
      " When will the master admission for 2025 open?\n"
     ]
    },
    {
     "data": {
      "text/markdown": [
       "Thinking..."
      ],
      "text/plain": [
       "<IPython.core.display.Markdown object>"
      ]
     },
     "metadata": {},
     "output_type": "display_data"
    },
    {
     "data": {
      "text/markdown": [
       "Retrieving updated information..."
      ],
      "text/plain": [
       "<IPython.core.display.Markdown object>"
      ]
     },
     "metadata": {},
     "output_type": "display_data"
    },
    {
     "data": {
      "text/markdown": [
       "Thinking..."
      ],
      "text/plain": [
       "<IPython.core.display.Markdown object>"
      ]
     },
     "metadata": {},
     "output_type": "display_data"
    },
    {
     "data": {
      "text/markdown": [
       "Thinking..."
      ],
      "text/plain": [
       "<IPython.core.display.Markdown object>"
      ]
     },
     "metadata": {},
     "output_type": "display_data"
    },
    {
     "data": {
      "text/markdown": [
       "Thinking..."
      ],
      "text/plain": [
       "<IPython.core.display.Markdown object>"
      ]
     },
     "metadata": {},
     "output_type": "display_data"
    },
    {
     "data": {
      "text/markdown": [
       "user: When will the master admission for 2025 open?"
      ],
      "text/plain": [
       "<IPython.core.display.Markdown object>"
      ]
     },
     "metadata": {},
     "output_type": "display_data"
    },
    {
     "data": {
      "text/markdown": [
       "assistant: The application period for master's programs starting in the fall of 2025 in Finland will be open from **January 2 to January 16, 2025**. This applies to the University of Helsinki and other Finnish universities, with some variations in details based on specific institutions.\n",
       "\n",
       "References:\n",
       "- [University of Helsinki Admissions FAQ](https://www.helsinki.fi/en/admissions-and-education/contact-admission-and-student-services/contact-admission-services/faq-about-applying)\n",
       "- [University of Oulu Admissions Deadlines](https://www.oulu.fi/en/apply/how-apply/applying-masters-programmes/deadlines)\n",
       "- [Study in Finland](https://www.studyinfinland.fi/news-events/apply-january-2025-study-start)"
      ],
      "text/plain": [
       "<IPython.core.display.Markdown object>"
      ]
     },
     "metadata": {},
     "output_type": "display_data"
    },
    {
     "data": {
      "text/markdown": [
       "**You (type 'exit' to end):**"
      ],
      "text/plain": [
       "<IPython.core.display.Markdown object>"
      ]
     },
     "metadata": {},
     "output_type": "display_data"
    },
    {
     "name": "stdin",
     "output_type": "stream",
     "text": [
      " What is the current unemployment allowance?\n"
     ]
    },
    {
     "data": {
      "text/markdown": [
       "Thinking..."
      ],
      "text/plain": [
       "<IPython.core.display.Markdown object>"
      ]
     },
     "metadata": {},
     "output_type": "display_data"
    },
    {
     "data": {
      "text/markdown": [
       "Retrieving updated information..."
      ],
      "text/plain": [
       "<IPython.core.display.Markdown object>"
      ]
     },
     "metadata": {},
     "output_type": "display_data"
    },
    {
     "data": {
      "text/markdown": [
       "Thinking..."
      ],
      "text/plain": [
       "<IPython.core.display.Markdown object>"
      ]
     },
     "metadata": {},
     "output_type": "display_data"
    },
    {
     "data": {
      "text/markdown": [
       "Thinking..."
      ],
      "text/plain": [
       "<IPython.core.display.Markdown object>"
      ]
     },
     "metadata": {},
     "output_type": "display_data"
    },
    {
     "data": {
      "text/markdown": [
       "user: What is the current unemployment allowance?"
      ],
      "text/plain": [
       "<IPython.core.display.Markdown object>"
      ]
     },
     "metadata": {},
     "output_type": "display_data"
    },
    {
     "data": {
      "text/markdown": [
       "assistant: As of 2023, the basic unemployment allowance in Finland has been increased to **EUR 37.21 per day**, up from the previous amount of **EUR 35.72 per day**. This adjustment is part of the changes made to the unemployment benefits in Finland.\n",
       "\n",
       "References:\n",
       "- [Kela - Changes to Unemployment Benefits in 2023](https://www.kela.fi/news-archive/4999498/changes-to-unemployment-benefits-in-2023)\n",
       "- [Aaria Kassa - Changes to Be Introduced to Unemployment Security Rules in 2023](https://www.aariakassa.fi/en/changes-to-be-introduced-to-unemployment-security-rules-in-2023)\n",
       "- [TEM - Unemployment Security](https://tem.fi/en/unemployment-security)"
      ],
      "text/plain": [
       "<IPython.core.display.Markdown object>"
      ]
     },
     "metadata": {},
     "output_type": "display_data"
    },
    {
     "data": {
      "text/markdown": [
       "**You (type 'exit' to end):**"
      ],
      "text/plain": [
       "<IPython.core.display.Markdown object>"
      ]
     },
     "metadata": {},
     "output_type": "display_data"
    },
    {
     "name": "stdin",
     "output_type": "stream",
     "text": [
      " During the entire continuous period of residence, how much time the applicant may stay abroad?\n"
     ]
    },
    {
     "data": {
      "text/markdown": [
       "Thinking..."
      ],
      "text/plain": [
       "<IPython.core.display.Markdown object>"
      ]
     },
     "metadata": {},
     "output_type": "display_data"
    },
    {
     "data": {
      "text/markdown": [
       "Retrieving updated information..."
      ],
      "text/plain": [
       "<IPython.core.display.Markdown object>"
      ]
     },
     "metadata": {},
     "output_type": "display_data"
    },
    {
     "data": {
      "text/markdown": [
       "Thinking..."
      ],
      "text/plain": [
       "<IPython.core.display.Markdown object>"
      ]
     },
     "metadata": {},
     "output_type": "display_data"
    },
    {
     "data": {
      "text/markdown": [
       "Thinking..."
      ],
      "text/plain": [
       "<IPython.core.display.Markdown object>"
      ]
     },
     "metadata": {},
     "output_type": "display_data"
    },
    {
     "data": {
      "text/markdown": [
       "Thinking..."
      ],
      "text/plain": [
       "<IPython.core.display.Markdown object>"
      ]
     },
     "metadata": {},
     "output_type": "display_data"
    },
    {
     "data": {
      "text/markdown": [
       "user: During the entire continuous period of residence, how much time the applicant may stay abroad?"
      ],
      "text/plain": [
       "<IPython.core.display.Markdown object>"
      ]
     },
     "metadata": {},
     "output_type": "display_data"
    },
    {
     "data": {
      "text/markdown": [
       "assistant: During the entire continuous period of residence in Finland, an applicant may stay abroad for a total of **365 days**. This includes the time that is permitted during the residence period for obtaining Finnish citizenship or permanent residency. It is important that applicants do not exceed this limit to maintain their residence status.\n",
       "\n",
       "References:\n",
       "- [Finnish Immigration Service - Period of Residence for Citizenship](https://migri.fi/-/kansalaisuuden-hakijoilta-vaadittu-asumisaika-pitenee-1.10.2024-alkaen?languageId=en_US)\n",
       "- [InfoFinland - Permanent Residence Permit](https://www.infofinland.fi/en/moving-to-finland/non-eu-citizens/permanent-residence-permit)"
      ],
      "text/plain": [
       "<IPython.core.display.Markdown object>"
      ]
     },
     "metadata": {},
     "output_type": "display_data"
    },
    {
     "data": {
      "text/markdown": [
       "**You (type 'exit' to end):**"
      ],
      "text/plain": [
       "<IPython.core.display.Markdown object>"
      ]
     },
     "metadata": {},
     "output_type": "display_data"
    },
    {
     "name": "stdin",
     "output_type": "stream",
     "text": [
      " What will be the change in the tuition fees from 2024?\n"
     ]
    },
    {
     "data": {
      "text/markdown": [
       "Thinking..."
      ],
      "text/plain": [
       "<IPython.core.display.Markdown object>"
      ]
     },
     "metadata": {},
     "output_type": "display_data"
    },
    {
     "data": {
      "text/markdown": [
       "Retrieving updated information..."
      ],
      "text/plain": [
       "<IPython.core.display.Markdown object>"
      ]
     },
     "metadata": {},
     "output_type": "display_data"
    },
    {
     "data": {
      "text/markdown": [
       "Thinking..."
      ],
      "text/plain": [
       "<IPython.core.display.Markdown object>"
      ]
     },
     "metadata": {},
     "output_type": "display_data"
    },
    {
     "data": {
      "text/markdown": [
       "Thinking..."
      ],
      "text/plain": [
       "<IPython.core.display.Markdown object>"
      ]
     },
     "metadata": {},
     "output_type": "display_data"
    },
    {
     "data": {
      "text/markdown": [
       "Thinking..."
      ],
      "text/plain": [
       "<IPython.core.display.Markdown object>"
      ]
     },
     "metadata": {},
     "output_type": "display_data"
    },
    {
     "data": {
      "text/markdown": [
       "Thinking..."
      ],
      "text/plain": [
       "<IPython.core.display.Markdown object>"
      ]
     },
     "metadata": {},
     "output_type": "display_data"
    },
    {
     "data": {
      "text/markdown": [
       "user: What will be the change in the tuition fees from 2024?"
      ],
      "text/plain": [
       "<IPython.core.display.Markdown object>"
      ]
     },
     "metadata": {},
     "output_type": "display_data"
    },
    {
     "data": {
      "text/markdown": [
       "assistant: Starting in 2024, Finland will introduce full tuition fees for non-European Union (EU) and non-European Economic Area (EEA) students pursuing higher education. This change means that these students will have to pay the full cost of their education, which is aimed at improving the financial sustainability of Finnish higher education institutions. \n",
       "\n",
       "Additionally, an application fee will also be implemented for these students to address the high volume of low-quality applications, which has added extra administrative work for educational institutions.\n",
       "\n",
       "References:\n",
       "- [Schengen News](https://schengen.news/finland-to-introduce-full-tuition-fees-for-non-eu-eea-students/)\n",
       "- [Ministry of Education and Culture - Proposed Changes](https://okm.fi/en/-/government-proposes-changes-to-tuition-fees-for-non-eu-and-non-eea-students)\n",
       "- [Yle News](https://yle.fi/a/74-20089083)\n",
       "- [Daily Finland](https://www.dailyfinland.fi/education/37745/Govt-to-introduce-full-tuition-application-fees-for-non-EU-non-EEA-students)"
      ],
      "text/plain": [
       "<IPython.core.display.Markdown object>"
      ]
     },
     "metadata": {},
     "output_type": "display_data"
    },
    {
     "data": {
      "text/markdown": [
       "**You (type 'exit' to end):**"
      ],
      "text/plain": [
       "<IPython.core.display.Markdown object>"
      ]
     },
     "metadata": {},
     "output_type": "display_data"
    },
    {
     "name": "stdin",
     "output_type": "stream",
     "text": [
      " When will the new immigration policies be in effect?\n"
     ]
    },
    {
     "data": {
      "text/markdown": [
       "Thinking..."
      ],
      "text/plain": [
       "<IPython.core.display.Markdown object>"
      ]
     },
     "metadata": {},
     "output_type": "display_data"
    },
    {
     "data": {
      "text/markdown": [
       "Retrieving updated information..."
      ],
      "text/plain": [
       "<IPython.core.display.Markdown object>"
      ]
     },
     "metadata": {},
     "output_type": "display_data"
    },
    {
     "data": {
      "text/markdown": [
       "Thinking..."
      ],
      "text/plain": [
       "<IPython.core.display.Markdown object>"
      ]
     },
     "metadata": {},
     "output_type": "display_data"
    },
    {
     "data": {
      "text/markdown": [
       "Thinking..."
      ],
      "text/plain": [
       "<IPython.core.display.Markdown object>"
      ]
     },
     "metadata": {},
     "output_type": "display_data"
    },
    {
     "data": {
      "text/markdown": [
       "Thinking..."
      ],
      "text/plain": [
       "<IPython.core.display.Markdown object>"
      ]
     },
     "metadata": {},
     "output_type": "display_data"
    },
    {
     "data": {
      "text/markdown": [
       "user: When will the new immigration policies be in effect?"
      ],
      "text/plain": [
       "<IPython.core.display.Markdown object>"
      ]
     },
     "metadata": {},
     "output_type": "display_data"
    },
    {
     "data": {
      "text/markdown": [
       "assistant: The new immigration policies in Finland will be effective beginning **October 1, 2024**. This includes changes such as the extension of the residency period required for obtaining Finnish citizenship from five years to eight years.\n",
       "\n",
       "References:\n",
       "- [Schengen News](https://schengen.news/finnish-parliament-approves-1st-phase-of-citizenship-act-reform-that-tightens-rules-for-acquiring-citizenship/)\n",
       "- [Travelobiz](https://travelobiz.com/finland-introduces-new-citizenship-rules-effective-october-2024/)"
      ],
      "text/plain": [
       "<IPython.core.display.Markdown object>"
      ]
     },
     "metadata": {},
     "output_type": "display_data"
    },
    {
     "data": {
      "text/markdown": [
       "**You (type 'exit' to end):**"
      ],
      "text/plain": [
       "<IPython.core.display.Markdown object>"
      ]
     },
     "metadata": {},
     "output_type": "display_data"
    },
    {
     "name": "stdin",
     "output_type": "stream",
     "text": [
      " Does Finland currently have an embassy in Pakistan?\n"
     ]
    },
    {
     "data": {
      "text/markdown": [
       "Thinking..."
      ],
      "text/plain": [
       "<IPython.core.display.Markdown object>"
      ]
     },
     "metadata": {},
     "output_type": "display_data"
    },
    {
     "data": {
      "text/markdown": [
       "Retrieving updated information..."
      ],
      "text/plain": [
       "<IPython.core.display.Markdown object>"
      ]
     },
     "metadata": {},
     "output_type": "display_data"
    },
    {
     "data": {
      "text/markdown": [
       "Thinking..."
      ],
      "text/plain": [
       "<IPython.core.display.Markdown object>"
      ]
     },
     "metadata": {},
     "output_type": "display_data"
    },
    {
     "data": {
      "text/markdown": [
       "Thinking..."
      ],
      "text/plain": [
       "<IPython.core.display.Markdown object>"
      ]
     },
     "metadata": {},
     "output_type": "display_data"
    },
    {
     "data": {
      "text/markdown": [
       "user: Does Finland currently have an embassy in Pakistan?"
      ],
      "text/plain": [
       "<IPython.core.display.Markdown object>"
      ]
     },
     "metadata": {},
     "output_type": "display_data"
    },
    {
     "data": {
      "text/markdown": [
       "assistant: Yes, Finland currently has an embassy in Pakistan. The Embassy of Finland is located in Islamabad and has been reopened after being closed for approximately ten years.\n",
       "\n",
       "References:\n",
       "- [Wikipedia - Finland–Pakistan Relations](https://en.wikipedia.org/wiki/Finland%E2%80%93Pakistan_relations)\n",
       "- [Finland's Representation Abroad](https://um.fi/finland-s-representation-abroad-by-country/-/asset_publisher/dCMOY7lDMXLf/contactInfoOrganization/id/73835850)"
      ],
      "text/plain": [
       "<IPython.core.display.Markdown object>"
      ]
     },
     "metadata": {},
     "output_type": "display_data"
    },
    {
     "data": {
      "text/markdown": [
       "**You (type 'exit' to end):**"
      ],
      "text/plain": [
       "<IPython.core.display.Markdown object>"
      ]
     },
     "metadata": {},
     "output_type": "display_data"
    },
    {
     "name": "stdin",
     "output_type": "stream",
     "text": [
      " What is quantum entanglement?\n"
     ]
    },
    {
     "data": {
      "text/markdown": [
       "Thinking..."
      ],
      "text/plain": [
       "<IPython.core.display.Markdown object>"
      ]
     },
     "metadata": {},
     "output_type": "display_data"
    },
    {
     "data": {
      "text/markdown": [
       "Thinking..."
      ],
      "text/plain": [
       "<IPython.core.display.Markdown object>"
      ]
     },
     "metadata": {},
     "output_type": "display_data"
    },
    {
     "data": {
      "text/markdown": [
       "user: What is quantum entanglement?"
      ],
      "text/plain": [
       "<IPython.core.display.Markdown object>"
      ]
     },
     "metadata": {},
     "output_type": "display_data"
    },
    {
     "data": {
      "text/markdown": [
       "assistant: I can only provide information related to Finland in general (e.g., location, history, economy, etc.), Finnish immigration, Finnish culture, Finnish lifestyle, or integration in Finland. For queries outside this domain, such as scientific concepts like quantum entanglement, I cannot provide the requested information."
      ],
      "text/plain": [
       "<IPython.core.display.Markdown object>"
      ]
     },
     "metadata": {},
     "output_type": "display_data"
    },
    {
     "data": {
      "text/markdown": [
       "**You (type 'exit' to end):**"
      ],
      "text/plain": [
       "<IPython.core.display.Markdown object>"
      ]
     },
     "metadata": {},
     "output_type": "display_data"
    },
    {
     "name": "stdin",
     "output_type": "stream",
     "text": [
      " exit\n"
     ]
    }
   ],
   "source": [
    "\"\"\"Create a thread for the assistant and maintain chat.\"\"\"\n",
    "import os\n",
    "import json\n",
    "import time\n",
    "from openai import OpenAI\n",
    "from tavily import TavilyClient\n",
    "from IPython.display import display, Markdown\n",
    "# Initialize last_message_id to keep track of the last printed message\n",
    "last_message_id = None\n",
    "\n",
    "# Function to perform a Tavily search\n",
    "def tavily_search(query):\n",
    "    display(Markdown(\"Retrieving updated information...\"))  # Status message when using TavilyClient\n",
    "    search_result = tavily_client.get_search_context(query, search_depth=\"advanced\", max_tokens=8000)\n",
    "    return search_result\n",
    "\n",
    "# Function to wait for a run to complete\n",
    "def wait_for_run_completion(thread_id, run_id):\n",
    "    while True:\n",
    "        display(Markdown(\"Thinking...\"))\n",
    "        time.sleep(1)\n",
    "        run = client.beta.threads.runs.retrieve(thread_id=thread_id, run_id=run_id)\n",
    "        if run.status in ['completed', 'failed', 'requires_action']:\n",
    "            return run\n",
    "\n",
    "# Function to handle tool output submission\n",
    "def submit_tool_outputs(thread_id, run_id, tools_to_call):\n",
    "    tool_output_array = []\n",
    "    for tool in tools_to_call:\n",
    "        output = None\n",
    "        tool_call_id = tool.id\n",
    "        function_name = tool.function.name\n",
    "        function_args = tool.function.arguments\n",
    "\n",
    "        if function_name == \"tavily_search\":\n",
    "            output = tavily_search(query=json.loads(function_args)[\"query\"])\n",
    "\n",
    "        if output:\n",
    "            tool_output_array.append({\"tool_call_id\": tool_call_id, \"output\": output})\n",
    "\n",
    "    return client.beta.threads.runs.submit_tool_outputs(\n",
    "        thread_id=thread_id,\n",
    "        run_id=run_id,\n",
    "        tool_outputs=tool_output_array\n",
    "    )\n",
    "\n",
    "# Create a thread\n",
    "thread = client.beta.threads.create()\n",
    "print(f\"Thread: {thread}\")\n",
    "\n",
    "# Initialize last_message_time to track the last message's creation time\n",
    "last_message_time = None\n",
    "\n",
    "# Function to print only new messages from a thread\n",
    "def print_new_messages_from_thread(thread_id):\n",
    "    global last_message_time  # Track the time of the last message that was printed\n",
    "    messages = client.beta.threads.messages.list(thread_id=thread_id)\n",
    "    \n",
    "    # Sort messages by creation time\n",
    "    sorted_messages = sorted(messages, key=lambda msg: msg.created_at)\n",
    "    \n",
    "    # Only print messages that are newer than the last printed message\n",
    "    new_messages = []\n",
    "    for msg in sorted_messages:\n",
    "        if last_message_time is None or msg.created_at > last_message_time:\n",
    "            new_messages.append(msg)\n",
    "\n",
    "    # Update the last_message_time to the latest message creation time\n",
    "    if new_messages:\n",
    "        last_message_time = new_messages[-1].created_at\n",
    "\n",
    "    # Display new messages only\n",
    "    for msg in new_messages:\n",
    "        display(Markdown(f\"{msg.role}: {msg.content[0].text.value}\"))\n",
    "\n",
    "# Ongoing conversation loop\n",
    "while True:\n",
    "    display(Markdown(\"**You (type 'exit' to end):**\"))\n",
    "    user_input = input()\n",
    "    if user_input.lower() == 'exit':\n",
    "        break\n",
    "\n",
    "    # Create a message\n",
    "    message = client.beta.threads.messages.create(\n",
    "        thread_id=thread.id,\n",
    "        role=\"user\",\n",
    "        content=user_input,\n",
    "    )\n",
    "\n",
    "    # Create a run\n",
    "    run = client.beta.threads.runs.create(\n",
    "        thread_id=thread.id,\n",
    "        assistant_id=assistant_id,\n",
    "    )\n",
    "\n",
    "    # Wait for run to complete\n",
    "    run = wait_for_run_completion(thread.id, run.id)\n",
    "\n",
    "    if run.status == 'failed':\n",
    "        print(run.error)\n",
    "        continue\n",
    "    elif run.status == 'requires_action':\n",
    "        run = submit_tool_outputs(thread.id, run.id, run.required_action.submit_tool_outputs.tool_calls)\n",
    "        run = wait_for_run_completion(thread.id, run.id)\n",
    "\n",
    "    # Print only new messages from the thread\n",
    "    print_new_messages_from_thread(thread.id)\n",
    "\n",
    "\n"
   ]
  },
  {
   "cell_type": "code",
   "execution_count": null,
   "id": "f9ec62fc-cafd-43de-8bc5-6f8777d68045",
   "metadata": {},
   "outputs": [],
   "source": []
  }
 ],
 "metadata": {
  "kernelspec": {
   "display_name": "Python (my_env)",
   "language": "python",
   "name": "my_env"
  },
  "language_info": {
   "codemirror_mode": {
    "name": "ipython",
    "version": 3
   },
   "file_extension": ".py",
   "mimetype": "text/x-python",
   "name": "python",
   "nbconvert_exporter": "python",
   "pygments_lexer": "ipython3",
   "version": "3.12.3"
  }
 },
 "nbformat": 4,
 "nbformat_minor": 5
}
